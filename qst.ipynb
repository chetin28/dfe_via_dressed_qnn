{
 "cells": [
  {
   "cell_type": "code",
   "execution_count": 1,
   "id": "86ad486c",
   "metadata": {},
   "outputs": [],
   "source": [
    "import qiskit\n",
    "from qiskit_experiments.framework import ParallelExperiment\n",
    "from qiskit_experiments.library import StateTomography\n",
    "\n",
    "# For simulation\n",
    "from qiskit.providers.aer import AerSimulator\n",
    "from qiskit.providers.fake_provider import FakeParis\n",
    "\n",
    "# Noisy simulator backend\n",
    "backend = AerSimulator.from_backend(FakeParis())"
   ]
  },
  {
   "cell_type": "markdown",
   "id": "1fe62d46",
   "metadata": {},
   "source": [
    "# Run experiments\n",
    "\n",
    "# GHZ State preparation circuit\n",
    "n_qubits = 2\n",
    "qc = qiskit.QuantumCircuit(n_qubits)\n",
    "# QST Experiment\n",
    "qstexp1 = StateTomography(qc)\n",
    "qstdata1 = qstexp1.run(backend, seed_simulation=100).block_for_results()\n",
    "\n",
    "# Print results\n",
    "for result in qstdata1.analysis_results():\n",
    "    print(result)"
   ]
  },
  {
   "cell_type": "code",
   "execution_count": 2,
   "id": "ca94801c",
   "metadata": {},
   "outputs": [],
   "source": [
    "from math import pi\n",
    "num_qubits = 5\n",
    "gates = [qiskit.circuit.library.RXGate(i * pi / (num_qubits - 1))\n",
    "         for i in range(num_qubits)]\n",
    "\n",
    "subexps = [\n",
    "    StateTomography(gate, qubits=[i])\n",
    "    for i, gate in enumerate(gates)\n",
    "]\n",
    "parexp = ParallelExperiment(subexps)\n",
    "pardata = parexp.run(backend, seed_simulation=100).block_for_results()\n",
    "\n",
    "for result in pardata.analysis_results():\n",
    "    print(result)"
   ]
  },
  {
   "cell_type": "code",
   "execution_count": 3,
   "id": "62975964",
   "metadata": {},
   "outputs": [
    {
     "name": "stdout",
     "output_type": "stream",
     "text": [
      "\n",
      "PARALLEL EXP 0\n",
      "State Fidelity: 0.98340\n",
      "State: DensityMatrix([[0.98339844+0.j        , 0.0234375 -0.03320312j],\n",
      "               [0.0234375 +0.03320312j, 0.01660156+0.j        ]],\n",
      "              dims=(2,))\n",
      "\n",
      "PARALLEL EXP 1\n",
      "State Fidelity: 0.96956\n",
      "State: DensityMatrix([[0.84863281+0.j        , 0.00976562+0.31542969j],\n",
      "               [0.00976562-0.31542969j, 0.15136719+0.j        ]],\n",
      "              dims=(2,))\n",
      "\n",
      "PARALLEL EXP 2\n",
      "State Fidelity: 0.98730\n",
      "State: DensityMatrix([[ 0.51757813+0.j        , -0.00683594+0.48730469j],\n",
      "               [-0.00683594-0.48730469j,  0.48242188+0.j        ]],\n",
      "              dims=(2,))\n",
      "\n",
      "PARALLEL EXP 3\n",
      "State Fidelity: 0.96404\n",
      "State: DensityMatrix([[ 0.1875    +0.j     , -0.00488281+0.34375j],\n",
      "               [-0.00488281-0.34375j,  0.8125    +0.j     ]],\n",
      "              dims=(2,))\n",
      "\n",
      "PARALLEL EXP 4\n",
      "State Fidelity: 0.97168\n",
      "State: DensityMatrix([[0.02832031+0.j        , 0.00195312+0.00976562j],\n",
      "               [0.00195312-0.00976562j, 0.97167969+0.j        ]],\n",
      "              dims=(2,))\n"
     ]
    }
   ],
   "source": [
    "for i, expdata in enumerate(pardata.child_data()):\n",
    "    state_result_i = expdata.analysis_results(\"state\")\n",
    "    fid_result_i = expdata.analysis_results(\"state_fidelity\")\n",
    "\n",
    "    print(f'\\nPARALLEL EXP {i}')\n",
    "    print(\"State Fidelity: {:.5f}\".format(fid_result_i.value))\n",
    "    print(\"State: {}\".format(state_result_i.value))"
   ]
  }
 ],
 "metadata": {
  "kernelspec": {
   "display_name": "'python3'",
   "language": "python",
   "name": "myenv"
  },
  "language_info": {
   "codemirror_mode": {
    "name": "ipython",
    "version": 3
   },
   "file_extension": ".py",
   "mimetype": "text/x-python",
   "name": "python",
   "nbconvert_exporter": "python",
   "pygments_lexer": "ipython3",
   "version": "3.9.15"
  }
 },
 "nbformat": 4,
 "nbformat_minor": 5
}
