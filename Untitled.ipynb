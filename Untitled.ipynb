{
 "cells": [
  {
   "cell_type": "code",
   "execution_count": 1,
   "id": "5469beff",
   "metadata": {},
   "outputs": [],
   "source": [
    "import pennylane as qml\n",
    "import pennylane.numpy as np\n",
    "import matplotlib.pyplot as plt\n",
    "import time\n",
    "\n",
    "np.random.seed(666)"
   ]
  },
  {
   "cell_type": "code",
   "execution_count": 2,
   "id": "e2f82cae",
   "metadata": {},
   "outputs": [],
   "source": [
    "def calculate_classical_shadow(circuit_template, params, shadow_size, num_qubits):\n",
    "    \"\"\"\n",
    "    Given a circuit, creates a collection of snapshots consisting of a bit string\n",
    "    and the index of a unitary operation.\n",
    "\n",
    "    Args:\n",
    "        circuit_template (function): A Pennylane QNode.\n",
    "        params (array): Circuit parameters.\n",
    "        shadow_size (int): The number of snapshots in the shadow.\n",
    "        num_qubits (int): The number of qubits in the circuit.\n",
    "\n",
    "    Returns:\n",
    "        Tuple of two numpy arrays. The first array contains measurement outcomes (-1, 1)\n",
    "        while the second array contains the index for the sampled Pauli's (0,1,2=X,Y,Z).\n",
    "        Each row of the arrays corresponds to a distinct snapshot or sample while each\n",
    "        column corresponds to a different qubit.\n",
    "    \"\"\"\n",
    "    # applying the single-qubit Clifford circuit is equivalent to measuring a Pauli\n",
    "    unitary_ensemble = [qml.PauliX, qml.PauliY, qml.PauliZ]\n",
    "\n",
    "    # sample random Pauli measurements uniformly, where 0,1,2 = X,Y,Z\n",
    "    unitary_ids = np.random.randint(0, 3, size=(shadow_size, num_qubits))\n",
    "    outcomes = np.zeros((shadow_size, num_qubits))\n",
    "\n",
    "    for ns in range(shadow_size):\n",
    "        # for each snapshot, add a random Pauli observable at each location\n",
    "        obs = [unitary_ensemble[int(unitary_ids[ns, i])](i) for i in range(num_qubits)]\n",
    "        outcomes[ns, :] = circuit_template(params, observable=obs)\n",
    "\n",
    "    # combine the computational basis outcomes and the sampled unitaries\n",
    "    return (outcomes, unitary_ids)"
   ]
  },
  {
   "cell_type": "code",
   "execution_count": 3,
   "id": "3bbf9aeb",
   "metadata": {},
   "outputs": [
    {
     "name": "stdout",
     "output_type": "stream",
     "text": [
      "[[ 1.  1.]\n",
      " [ 1.  1.]\n",
      " [ 1.  1.]\n",
      " [ 1.  1.]\n",
      " [ 1.  1.]\n",
      " [ 1.  1.]\n",
      " [ 1. -1.]\n",
      " [ 1.  1.]\n",
      " [ 1.  1.]\n",
      " [-1. -1.]]\n",
      "[[2 2]\n",
      " [1 2]\n",
      " [0 1]\n",
      " [2 0]\n",
      " [0 2]\n",
      " [1 0]\n",
      " [2 0]\n",
      " [1 2]\n",
      " [0 1]\n",
      " [1 1]]\n"
     ]
    }
   ],
   "source": [
    "num_qubits = 2\n",
    "\n",
    "# set up a two-qubit device with shots = 1 to ensure that we only get a single measurement\n",
    "dev = qml.device(\"default.qubit\", wires=num_qubits, shots=1)\n",
    "\n",
    "# simple circuit to prepare rho\n",
    "@qml.qnode(dev)\n",
    "def local_qubit_rotation_circuit(params, **kwargs):\n",
    "    observables = kwargs.pop(\"observable\")\n",
    "    for w in dev.wires:\n",
    "        qml.RY(params[w], wires=w)\n",
    "\n",
    "    return [qml.expval(o) for o in observables]\n",
    "\n",
    "\n",
    "# arrays in which to collect data\n",
    "elapsed_times = []\n",
    "shadows = []\n",
    "\n",
    "# collecting shadows and elapsed times\n",
    "params = np.random.randn(2)\n",
    "for num_snapshots in [10, 100, 1000, 10000]:\n",
    "    start = time.time()\n",
    "    shadow = calculate_classical_shadow(\n",
    "        local_qubit_rotation_circuit, params, num_snapshots, num_qubits\n",
    "    )\n",
    "    elapsed_times.append(time.time() - start)\n",
    "    shadows.append(shadow)\n",
    "\n",
    "# printing out the smallest shadow as an example\n",
    "print(shadows[0][0])\n",
    "print(shadows[0][1])"
   ]
  },
  {
   "cell_type": "code",
   "execution_count": 4,
   "id": "aa0cd99f",
   "metadata": {},
   "outputs": [],
   "source": [
    "def snapshot_state(b_list, obs_list):\n",
    "    \"\"\"\n",
    "    Helper function for `shadow_state_reconstruction` that reconstructs\n",
    "     a state from a single snapshot in a shadow.\n",
    "\n",
    "    Implements Eq. (S44) from https://arxiv.org/pdf/2002.08953.pdf\n",
    "\n",
    "    Args:\n",
    "        b_list (array): The list of classical outcomes for the snapshot.\n",
    "        obs_list (array): Indices for the applied Pauli measurement.\n",
    "\n",
    "    Returns:\n",
    "        Numpy array with the reconstructed snapshot.\n",
    "    \"\"\"\n",
    "    num_qubits = len(b_list)\n",
    "\n",
    "    # computational basis states\n",
    "    zero_state = np.array([[1, 0], [0, 0]])\n",
    "    one_state = np.array([[0, 0], [0, 1]])\n",
    "\n",
    "    # local qubit unitaries\n",
    "    phase_z = np.array([[1, 0], [0, -1j]], dtype=complex)\n",
    "    hadamard = qml.matrix(qml.Hadamard(0))\n",
    "    identity = qml.matrix(qml.Identity(0))\n",
    "\n",
    "    # undo the rotations that were added implicitly to the circuit for the Pauli measurements\n",
    "    unitaries = [hadamard, hadamard @ phase_z, identity]\n",
    "\n",
    "    # reconstructing the snapshot state from local Pauli measurements\n",
    "    rho_snapshot = [1]\n",
    "    for i in range(num_qubits):\n",
    "        state = zero_state if b_list[i] == 1 else one_state\n",
    "        U = unitaries[int(obs_list[i])]\n",
    "\n",
    "        # applying Eq. (S44)\n",
    "        local_rho = 3 * (U.conj().T @ state @ U) - identity\n",
    "        rho_snapshot = np.kron(rho_snapshot, local_rho)\n",
    "\n",
    "    return rho_snapshot\n",
    "\n",
    "\n",
    "def shadow_state_reconstruction(shadow):\n",
    "    \"\"\"\n",
    "    Reconstruct a state approximation as an average over all snapshots in the shadow.\n",
    "\n",
    "    Args:\n",
    "        shadow (tuple): A shadow tuple obtained from `calculate_classical_shadow`.\n",
    "\n",
    "    Returns:\n",
    "        Numpy array with the reconstructed quantum state.\n",
    "    \"\"\"\n",
    "    num_snapshots, num_qubits = shadow[0].shape\n",
    "\n",
    "    # classical values\n",
    "    b_lists, obs_lists = shadow\n",
    "\n",
    "    # Averaging over snapshot states.\n",
    "    shadow_rho = np.zeros((2 ** num_qubits, 2 ** num_qubits), dtype=complex)\n",
    "    for i in range(num_snapshots):\n",
    "        shadow_rho += snapshot_state(b_lists[i], obs_lists[i])\n",
    "\n",
    "    return shadow_rho / num_snapshots\n"
   ]
  },
  {
   "cell_type": "code",
   "execution_count": 5,
   "id": "25231624",
   "metadata": {},
   "outputs": [],
   "source": [
    "num_qubits = 2\n",
    "\n",
    "dev = qml.device(\"default.qubit\", wires=num_qubits, shots=1)\n",
    "\n",
    "# circuit to create a Bell state and measure it in\n",
    "# the bases specified by the 'observable' keyword argument.\n",
    "@qml.qnode(dev)\n",
    "def bell_state_circuit(params, **kwargs):\n",
    "    observables = kwargs.pop(\"observable\")\n",
    "\n",
    "    qml.Hadamard(0)\n",
    "    qml.CNOT(wires=[0, 1])\n",
    "\n",
    "    return [qml.expval(o) for o in observables]"
   ]
  },
  {
   "cell_type": "code",
   "execution_count": 6,
   "id": "3096e2dc",
   "metadata": {},
   "outputs": [
    {
     "name": "stdout",
     "output_type": "stream",
     "text": [
      "[[ 1. -1.]\n",
      " [ 1. -1.]\n",
      " [ 1. -1.]\n",
      " ...\n",
      " [ 1. -1.]\n",
      " [-1.  1.]\n",
      " [ 1.  1.]]\n",
      "[[1 0]\n",
      " [0 1]\n",
      " [2 0]\n",
      " ...\n",
      " [1 1]\n",
      " [1 1]\n",
      " [0 2]]\n"
     ]
    }
   ],
   "source": [
    "num_snapshots = 1000\n",
    "params = []\n",
    "\n",
    "shadow = calculate_classical_shadow(\n",
    "    bell_state_circuit, params, num_snapshots, num_qubits\n",
    ")\n",
    "print(shadow[0])\n",
    "print(shadow[1])"
   ]
  },
  {
   "cell_type": "code",
   "execution_count": 7,
   "id": "5bb8b2da",
   "metadata": {},
   "outputs": [
    {
     "name": "stdout",
     "output_type": "stream",
     "text": [
      "[[ 0.50275+0.j       0.0285 -0.02325j  0.06375+0.j       0.4995 -0.00675j]\n",
      " [ 0.0285 +0.02325j -0.01925+0.j       0.027  -0.00675j -0.04425-0.018j  ]\n",
      " [ 0.06375-0.j       0.027  +0.00675j -0.05675+0.j       0.006  +0.00375j]\n",
      " [ 0.4995 +0.00675j -0.04425+0.018j    0.006  -0.00375j  0.57325+0.j     ]]\n"
     ]
    }
   ],
   "source": [
    "shadow_state = shadow_state_reconstruction(shadow)\n",
    "print(np.round(shadow_state, decimals=6))"
   ]
  },
  {
   "cell_type": "code",
   "execution_count": 8,
   "id": "1a5907a2",
   "metadata": {},
   "outputs": [],
   "source": [
    "bell_state = np.array([[0.5, 0, 0, 0.5], [0, 0, 0, 0], [0, 0, 0, 0], [0.5, 0, 0, 0.5]])\n"
   ]
  },
  {
   "cell_type": "code",
   "execution_count": 9,
   "id": "4f036c60",
   "metadata": {},
   "outputs": [
    {
     "data": {
      "text/plain": [
       "(0.16156422871415568+0j)"
      ]
     },
     "execution_count": 9,
     "metadata": {},
     "output_type": "execute_result"
    }
   ],
   "source": [
    "def operator_2_norm(R):\n",
    "    \"\"\"\n",
    "    Calculate the operator 2-norm.\n",
    "\n",
    "    Args:\n",
    "        R (array): The operator whose norm we want to calculate.\n",
    "\n",
    "    Returns:\n",
    "        Scalar corresponding to the norm.\n",
    "    \"\"\"\n",
    "    return np.sqrt(np.trace(R.conjugate().transpose() @ R))\n",
    "\n",
    "\n",
    "# Calculating the distance between ideal and shadow states.\n",
    "operator_2_norm(bell_state - shadow_state)"
   ]
  },
  {
   "cell_type": "code",
   "execution_count": 10,
   "id": "7caf2c51",
   "metadata": {},
   "outputs": [
    {
     "data": {
      "image/png": "[encoded data removed]",
      "text/plain": [
       "<Figure size 640x480 with 1 Axes>"
      ]
     },
     "metadata": {},
     "output_type": "display_data"
    }
   ],
   "source": [
    "number_of_runs = 10\n",
    "snapshots_range = [100, 1000, 6000]\n",
    "distances = np.zeros((number_of_runs, len(snapshots_range)))\n",
    "\n",
    "# run the estimation multiple times so that we can include error bars\n",
    "for i in range(number_of_runs):\n",
    "    for j, num_snapshots in enumerate(snapshots_range):\n",
    "        shadow = calculate_classical_shadow(\n",
    "            bell_state_circuit, params, num_snapshots, num_qubits\n",
    "        )\n",
    "        shadow_state = shadow_state_reconstruction(shadow)\n",
    "\n",
    "        distances[i, j] = np.real(operator_2_norm(bell_state - shadow_state))\n",
    "\n",
    "plt.errorbar(\n",
    "    snapshots_range,\n",
    "    np.mean(distances, axis=0),\n",
    "    yerr=np.std(distances, axis=0),\n",
    ")\n",
    "plt.title(\"Distance between Ideal and Shadow Bell States\")\n",
    "plt.xlabel(\"Number of Snapshots\")\n",
    "plt.ylabel(\"Distance\")\n",
    "plt.show()"
   ]
  },
  {
   "cell_type": "code",
   "execution_count": 11,
   "id": "b647596b",
   "metadata": {},
   "outputs": [],
   "source": [
    "def estimate_shadow_obervable(shadow, observable, k=10):\n",
    "    \"\"\"\n",
    "    Adapted from https://github.com/momohuang/predicting-quantum-properties\n",
    "    Calculate the estimator E[O] = median(Tr{rho_{(k)} O}) where rho_(k)) is set of k\n",
    "    snapshots in the shadow. Use median of means to ameliorate the effects of outliers.\n",
    "\n",
    "    Args:\n",
    "        shadow (tuple): A shadow tuple obtained from `calculate_classical_shadow`.\n",
    "        observable (qml.Observable): Single PennyLane observable consisting of single Pauli\n",
    "            operators e.g. qml.PauliX(0) @ qml.PauliY(1).\n",
    "        k (int): number of splits in the median of means estimator.\n",
    "\n",
    "    Returns:\n",
    "        Scalar corresponding to the estimate of the observable.\n",
    "    \"\"\"\n",
    "    shadow_size, num_qubits = shadow[0].shape\n",
    "\n",
    "    # convert Pennylane observables to indices\n",
    "    map_name_to_int = {\"PauliX\": 0, \"PauliY\": 1, \"PauliZ\": 2}\n",
    "    if isinstance(observable, (qml.PauliX, qml.PauliY, qml.PauliZ)):\n",
    "        target_obs, target_locs = np.array(\n",
    "            [map_name_to_int[observable.name]]\n",
    "        ), np.array([observable.wires[0]])\n",
    "    else:\n",
    "        target_obs, target_locs = np.array(\n",
    "            [map_name_to_int[o.name] for o in observable.obs]\n",
    "        ), np.array([o.wires[0] for o in observable.obs])\n",
    "\n",
    "    # classical values\n",
    "    b_lists, obs_lists = shadow\n",
    "    means = []\n",
    "\n",
    "    # loop over the splits of the shadow:\n",
    "    for i in range(0, shadow_size, shadow_size // k):\n",
    "\n",
    "        # assign the splits temporarily\n",
    "        b_lists_k, obs_lists_k = (\n",
    "            b_lists[i : i + shadow_size // k],\n",
    "            obs_lists[i : i + shadow_size // k],\n",
    "        )\n",
    "\n",
    "        # find the exact matches for the observable of interest at the specified locations\n",
    "        indices = np.all(obs_lists_k[:, target_locs] == target_obs, axis=1)\n",
    "\n",
    "        # catch the edge case where there is no match in the chunk\n",
    "        if sum(indices) > 0:\n",
    "            # take the product and sum\n",
    "            product = np.prod(b_lists_k[indices][:, target_locs], axis=1)\n",
    "            means.append(np.sum(product) / sum(indices))\n",
    "        else:\n",
    "            means.append(0)\n",
    "\n",
    "    return np.median(means)"
   ]
  },
  {
   "cell_type": "code",
   "execution_count": 12,
   "id": "ce95f2a3",
   "metadata": {},
   "outputs": [],
   "source": [
    "def shadow_bound(error, observables, failure_rate=0.01):\n",
    "    \"\"\"\n",
    "    Calculate the shadow bound for the Pauli measurement scheme.\n",
    "\n",
    "    Implements Eq. (S13) from https://arxiv.org/pdf/2002.08953.pdf\n",
    "\n",
    "    Args:\n",
    "        error (float): The error on the estimator.\n",
    "        observables (list) : List of matrices corresponding to the observables we intend to\n",
    "            measure.\n",
    "        failure_rate (float): Rate of failure for the bound to hold.\n",
    "\n",
    "    Returns:\n",
    "        An integer that gives the number of samples required to satisfy the shadow bound and\n",
    "        the chunk size required attaining the specified failure rate.\n",
    "    \"\"\"\n",
    "    M = len(observables)\n",
    "    K = 2 * np.log(2 * M / failure_rate)\n",
    "    shadow_norm = (\n",
    "        lambda op: np.linalg.norm(\n",
    "            op - np.trace(op) / 2 ** int(np.log2(op.shape[0])), ord=np.inf\n",
    "        )\n",
    "        ** 2\n",
    "    )\n",
    "    N = 34 * max(shadow_norm(o) for o in observables) / error ** 2\n",
    "    return int(np.ceil(N * K)), int(K)\n"
   ]
  },
  {
   "cell_type": "code",
   "execution_count": 13,
   "id": "e9d1fe49",
   "metadata": {},
   "outputs": [],
   "source": [
    "num_qubits = 10\n",
    "dev = qml.device(\"default.qubit\", wires=num_qubits, shots=1)\n",
    "\n",
    "\n",
    "@qml.qnode(dev)\n",
    "def circuit(params, **kwargs):\n",
    "    observables = kwargs.pop(\"observable\")\n",
    "    for w in range(num_qubits):\n",
    "        qml.Hadamard(wires=w)\n",
    "        qml.RY(params[w], wires=w)\n",
    "    for w in dev.wires[:-1]:\n",
    "        qml.CNOT(wires=[w, w + 1])\n",
    "    for w in dev.wires:\n",
    "        qml.RZ(params[w + num_qubits], wires=w)\n",
    "    return [qml.expval(o) for o in observables]\n",
    "\n",
    "\n",
    "params = np.random.randn(2 * num_qubits)"
   ]
  },
  {
   "cell_type": "code",
   "execution_count": 14,
   "id": "c65b0415",
   "metadata": {},
   "outputs": [],
   "source": [
    "list_of_observables = (\n",
    "    [qml.PauliX(i) @ qml.PauliX(i + 1) for i in range(num_qubits - 1)]\n",
    "    + [qml.PauliY(i) @ qml.PauliY(i + 1) for i in range(num_qubits - 1)]\n",
    "    + [qml.PauliZ(i) @ qml.PauliZ(i + 1) for i in range(num_qubits - 1)]\n",
    ")"
   ]
  },
  {
   "cell_type": "code",
   "execution_count": 15,
   "id": "205050e7",
   "metadata": {},
   "outputs": [
    {
     "data": {
      "text/plain": [
       "14611"
      ]
     },
     "execution_count": 15,
     "metadata": {},
     "output_type": "execute_result"
    }
   ],
   "source": [
    "shadow_size_bound, k = shadow_bound(\n",
    "    error=2e-1, observables=[qml.matrix(o) for o in list_of_observables]\n",
    ")\n",
    "shadow_size_bound"
   ]
  },
  {
   "cell_type": "code",
   "execution_count": 16,
   "id": "7288e78d",
   "metadata": {
    "scrolled": true
   },
   "outputs": [
    {
     "name": "stdout",
     "output_type": "stream",
     "text": [
      "585 samples required \n",
      "722 samples required \n",
      "914 samples required \n",
      "1193 samples required \n",
      "1624 samples required \n",
      "2338 samples required \n",
      "3653 samples required \n",
      "6494 samples required \n",
      "14611 samples required \n"
     ]
    },
    {
     "ename": "KeyboardInterrupt",
     "evalue": "",
     "output_type": "error",
     "traceback": [
      "\u001b[1;31m---------------------------------------------------------------------------\u001b[0m",
      "\u001b[1;31mKeyboardInterrupt\u001b[0m                         Traceback (most recent call last)",
      "\u001b[1;32m~\\AppData\\Local\\Temp\\ipykernel_6572\\1891899153.py\u001b[0m in \u001b[0;36m<module>\u001b[1;34m\u001b[0m\n\u001b[0;32m     12\u001b[0m     \u001b[0mprint\u001b[0m\u001b[1;33m(\u001b[0m\u001b[1;34mf\"{shadow_size_bound} samples required \"\u001b[0m\u001b[1;33m)\u001b[0m\u001b[1;33m\u001b[0m\u001b[1;33m\u001b[0m\u001b[0m\n\u001b[0;32m     13\u001b[0m     \u001b[1;31m# calculate a shadow of the appropriate size\u001b[0m\u001b[1;33m\u001b[0m\u001b[1;33m\u001b[0m\u001b[0m\n\u001b[1;32m---> 14\u001b[1;33m     \u001b[0mshadow\u001b[0m \u001b[1;33m=\u001b[0m \u001b[0mcalculate_classical_shadow\u001b[0m\u001b[1;33m(\u001b[0m\u001b[0mcircuit\u001b[0m\u001b[1;33m,\u001b[0m \u001b[0mparams\u001b[0m\u001b[1;33m,\u001b[0m \u001b[0mshadow_size_bound\u001b[0m\u001b[1;33m,\u001b[0m \u001b[0mnum_qubits\u001b[0m\u001b[1;33m)\u001b[0m\u001b[1;33m\u001b[0m\u001b[1;33m\u001b[0m\u001b[0m\n\u001b[0m\u001b[0;32m     15\u001b[0m \u001b[1;33m\u001b[0m\u001b[0m\n\u001b[0;32m     16\u001b[0m     \u001b[1;31m# estimate all the observables in O\u001b[0m\u001b[1;33m\u001b[0m\u001b[1;33m\u001b[0m\u001b[0m\n",
      "\u001b[1;32m~\\AppData\\Local\\Temp\\ipykernel_6572\\574868339.py\u001b[0m in \u001b[0;36mcalculate_classical_shadow\u001b[1;34m(circuit_template, params, shadow_size, num_qubits)\u001b[0m\n\u001b[0;32m     26\u001b[0m         \u001b[1;31m# for each snapshot, add a random Pauli observable at each location\u001b[0m\u001b[1;33m\u001b[0m\u001b[1;33m\u001b[0m\u001b[0m\n\u001b[0;32m     27\u001b[0m         \u001b[0mobs\u001b[0m \u001b[1;33m=\u001b[0m \u001b[1;33m[\u001b[0m\u001b[0munitary_ensemble\u001b[0m\u001b[1;33m[\u001b[0m\u001b[0mint\u001b[0m\u001b[1;33m(\u001b[0m\u001b[0munitary_ids\u001b[0m\u001b[1;33m[\u001b[0m\u001b[0mns\u001b[0m\u001b[1;33m,\u001b[0m \u001b[0mi\u001b[0m\u001b[1;33m]\u001b[0m\u001b[1;33m)\u001b[0m\u001b[1;33m]\u001b[0m\u001b[1;33m(\u001b[0m\u001b[0mi\u001b[0m\u001b[1;33m)\u001b[0m \u001b[1;32mfor\u001b[0m \u001b[0mi\u001b[0m \u001b[1;32min\u001b[0m \u001b[0mrange\u001b[0m\u001b[1;33m(\u001b[0m\u001b[0mnum_qubits\u001b[0m\u001b[1;33m)\u001b[0m\u001b[1;33m]\u001b[0m\u001b[1;33m\u001b[0m\u001b[1;33m\u001b[0m\u001b[0m\n\u001b[1;32m---> 28\u001b[1;33m         \u001b[0moutcomes\u001b[0m\u001b[1;33m[\u001b[0m\u001b[0mns\u001b[0m\u001b[1;33m,\u001b[0m \u001b[1;33m:\u001b[0m\u001b[1;33m]\u001b[0m \u001b[1;33m=\u001b[0m \u001b[0mcircuit_template\u001b[0m\u001b[1;33m(\u001b[0m\u001b[0mparams\u001b[0m\u001b[1;33m,\u001b[0m \u001b[0mobservable\u001b[0m\u001b[1;33m=\u001b[0m\u001b[0mobs\u001b[0m\u001b[1;33m)\u001b[0m\u001b[1;33m\u001b[0m\u001b[1;33m\u001b[0m\u001b[0m\n\u001b[0m\u001b[0;32m     29\u001b[0m \u001b[1;33m\u001b[0m\u001b[0m\n\u001b[0;32m     30\u001b[0m     \u001b[1;31m# combine the computational basis outcomes and the sampled unitaries\u001b[0m\u001b[1;33m\u001b[0m\u001b[1;33m\u001b[0m\u001b[0m\n",
      "\u001b[1;32m~\\anaconda3\\envs\\python3\\lib\\site-packages\\pennylane\\qnode.py\u001b[0m in \u001b[0;36m__call__\u001b[1;34m(self, *args, **kwargs)\u001b[0m\n\u001b[0;32m    845\u001b[0m             \u001b[1;32mreturn\u001b[0m \u001b[0mres\u001b[0m\u001b[1;33m\u001b[0m\u001b[1;33m\u001b[0m\u001b[0m\n\u001b[0;32m    846\u001b[0m \u001b[1;33m\u001b[0m\u001b[0m\n\u001b[1;32m--> 847\u001b[1;33m         res = qml.execute(\n\u001b[0m\u001b[0;32m    848\u001b[0m             \u001b[1;33m[\u001b[0m\u001b[0mself\u001b[0m\u001b[1;33m.\u001b[0m\u001b[0mtape\u001b[0m\u001b[1;33m]\u001b[0m\u001b[1;33m,\u001b[0m\u001b[1;33m\u001b[0m\u001b[1;33m\u001b[0m\u001b[0m\n\u001b[0;32m    849\u001b[0m             \u001b[0mdevice\u001b[0m\u001b[1;33m=\u001b[0m\u001b[0mself\u001b[0m\u001b[1;33m.\u001b[0m\u001b[0mdevice\u001b[0m\u001b[1;33m,\u001b[0m\u001b[1;33m\u001b[0m\u001b[1;33m\u001b[0m\u001b[0m\n",
      "\u001b[1;32m~\\anaconda3\\envs\\python3\\lib\\site-packages\\pennylane\\interfaces\\execution.py\u001b[0m in \u001b[0;36mexecute\u001b[1;34m(tapes, device, gradient_fn, interface, mode, gradient_kwargs, cache, cachesize, max_diff, override_shots, expand_fn, max_expansion, device_batch_transform)\u001b[0m\n\u001b[0;32m    722\u001b[0m         ) from e\n\u001b[0;32m    723\u001b[0m \u001b[1;33m\u001b[0m\u001b[0m\n\u001b[1;32m--> 724\u001b[1;33m     res = _execute(\n\u001b[0m\u001b[0;32m    725\u001b[0m         \u001b[0mtapes\u001b[0m\u001b[1;33m,\u001b[0m \u001b[0mdevice\u001b[0m\u001b[1;33m,\u001b[0m \u001b[0mexecute_fn\u001b[0m\u001b[1;33m,\u001b[0m \u001b[0mgradient_fn\u001b[0m\u001b[1;33m,\u001b[0m \u001b[0mgradient_kwargs\u001b[0m\u001b[1;33m,\u001b[0m \u001b[0m_n\u001b[0m\u001b[1;33m=\u001b[0m\u001b[1;36m1\u001b[0m\u001b[1;33m,\u001b[0m \u001b[0mmax_diff\u001b[0m\u001b[1;33m=\u001b[0m\u001b[0mmax_diff\u001b[0m\u001b[1;33m,\u001b[0m \u001b[0mmode\u001b[0m\u001b[1;33m=\u001b[0m\u001b[0m_mode\u001b[0m\u001b[1;33m\u001b[0m\u001b[1;33m\u001b[0m\u001b[0m\n\u001b[0;32m    726\u001b[0m     )\n",
      "\u001b[1;32m~\\anaconda3\\envs\\python3\\lib\\site-packages\\pennylane\\interfaces\\autograd.py\u001b[0m in \u001b[0;36mexecute\u001b[1;34m(tapes, device, execute_fn, gradient_fn, gradient_kwargs, _n, max_diff, mode)\u001b[0m\n\u001b[0;32m     79\u001b[0m     )\n\u001b[0;32m     80\u001b[0m \u001b[1;33m\u001b[0m\u001b[0m\n\u001b[1;32m---> 81\u001b[1;33m     return _execute(\n\u001b[0m\u001b[0;32m     82\u001b[0m         \u001b[0mparameters\u001b[0m\u001b[1;33m,\u001b[0m\u001b[1;33m\u001b[0m\u001b[1;33m\u001b[0m\u001b[0m\n\u001b[0;32m     83\u001b[0m         \u001b[0mtapes\u001b[0m\u001b[1;33m=\u001b[0m\u001b[0mtapes\u001b[0m\u001b[1;33m,\u001b[0m\u001b[1;33m\u001b[0m\u001b[1;33m\u001b[0m\u001b[0m\n",
      "\u001b[1;32m~\\anaconda3\\envs\\python3\\lib\\site-packages\\autograd\\tracer.py\u001b[0m in \u001b[0;36mf_wrapped\u001b[1;34m(*args, **kwargs)\u001b[0m\n\u001b[0;32m     46\u001b[0m             \u001b[1;32mreturn\u001b[0m \u001b[0mnew_box\u001b[0m\u001b[1;33m(\u001b[0m\u001b[0mans\u001b[0m\u001b[1;33m,\u001b[0m \u001b[0mtrace\u001b[0m\u001b[1;33m,\u001b[0m \u001b[0mnode\u001b[0m\u001b[1;33m)\u001b[0m\u001b[1;33m\u001b[0m\u001b[1;33m\u001b[0m\u001b[0m\n\u001b[0;32m     47\u001b[0m         \u001b[1;32melse\u001b[0m\u001b[1;33m:\u001b[0m\u001b[1;33m\u001b[0m\u001b[1;33m\u001b[0m\u001b[0m\n\u001b[1;32m---> 48\u001b[1;33m             \u001b[1;32mreturn\u001b[0m \u001b[0mf_raw\u001b[0m\u001b[1;33m(\u001b[0m\u001b[1;33m*\u001b[0m\u001b[0margs\u001b[0m\u001b[1;33m,\u001b[0m \u001b[1;33m**\u001b[0m\u001b[0mkwargs\u001b[0m\u001b[1;33m)\u001b[0m\u001b[1;33m\u001b[0m\u001b[1;33m\u001b[0m\u001b[0m\n\u001b[0m\u001b[0;32m     49\u001b[0m     \u001b[0mf_wrapped\u001b[0m\u001b[1;33m.\u001b[0m\u001b[0mfun\u001b[0m \u001b[1;33m=\u001b[0m \u001b[0mf_raw\u001b[0m\u001b[1;33m\u001b[0m\u001b[1;33m\u001b[0m\u001b[0m\n\u001b[0;32m     50\u001b[0m     \u001b[0mf_wrapped\u001b[0m\u001b[1;33m.\u001b[0m\u001b[0m_is_autograd_primitive\u001b[0m \u001b[1;33m=\u001b[0m \u001b[1;32mTrue\u001b[0m\u001b[1;33m\u001b[0m\u001b[1;33m\u001b[0m\u001b[0m\n",
      "\u001b[1;32m~\\anaconda3\\envs\\python3\\lib\\site-packages\\pennylane\\interfaces\\autograd.py\u001b[0m in \u001b[0;36m_execute\u001b[1;34m(parameters, tapes, device, execute_fn, gradient_fn, gradient_kwargs, _n, max_diff)\u001b[0m\n\u001b[0;32m    123\u001b[0m     \"\"\"\n\u001b[0;32m    124\u001b[0m     \u001b[1;32mwith\u001b[0m \u001b[0mqml\u001b[0m\u001b[1;33m.\u001b[0m\u001b[0mtape\u001b[0m\u001b[1;33m.\u001b[0m\u001b[0mUnwrap\u001b[0m\u001b[1;33m(\u001b[0m\u001b[1;33m*\u001b[0m\u001b[0mtapes\u001b[0m\u001b[1;33m)\u001b[0m\u001b[1;33m:\u001b[0m\u001b[1;33m\u001b[0m\u001b[1;33m\u001b[0m\u001b[0m\n\u001b[1;32m--> 125\u001b[1;33m         \u001b[0mres\u001b[0m\u001b[1;33m,\u001b[0m \u001b[0mjacs\u001b[0m \u001b[1;33m=\u001b[0m \u001b[0mexecute_fn\u001b[0m\u001b[1;33m(\u001b[0m\u001b[0mtapes\u001b[0m\u001b[1;33m,\u001b[0m \u001b[1;33m**\u001b[0m\u001b[0mgradient_kwargs\u001b[0m\u001b[1;33m)\u001b[0m\u001b[1;33m\u001b[0m\u001b[1;33m\u001b[0m\u001b[0m\n\u001b[0m\u001b[0;32m    126\u001b[0m \u001b[1;33m\u001b[0m\u001b[0m\n\u001b[0;32m    127\u001b[0m     \u001b[1;32mfor\u001b[0m \u001b[0mi\u001b[0m\u001b[1;33m,\u001b[0m \u001b[0mr\u001b[0m \u001b[1;32min\u001b[0m \u001b[0menumerate\u001b[0m\u001b[1;33m(\u001b[0m\u001b[0mres\u001b[0m\u001b[1;33m)\u001b[0m\u001b[1;33m:\u001b[0m\u001b[1;33m\u001b[0m\u001b[1;33m\u001b[0m\u001b[0m\n",
      "\u001b[1;32m~\\anaconda3\\envs\\python3\\lib\\site-packages\\pennylane\\interfaces\\execution.py\u001b[0m in \u001b[0;36mwrapper\u001b[1;34m(tapes, **kwargs)\u001b[0m\n\u001b[0;32m    204\u001b[0m         \u001b[1;32melse\u001b[0m\u001b[1;33m:\u001b[0m\u001b[1;33m\u001b[0m\u001b[1;33m\u001b[0m\u001b[0m\n\u001b[0;32m    205\u001b[0m             \u001b[1;31m# execute all unique tapes that do not exist in the cache\u001b[0m\u001b[1;33m\u001b[0m\u001b[1;33m\u001b[0m\u001b[0m\n\u001b[1;32m--> 206\u001b[1;33m             \u001b[0mres\u001b[0m \u001b[1;33m=\u001b[0m \u001b[0mfn\u001b[0m\u001b[1;33m(\u001b[0m\u001b[0mexecution_tapes\u001b[0m\u001b[1;33m.\u001b[0m\u001b[0mvalues\u001b[0m\u001b[1;33m(\u001b[0m\u001b[1;33m)\u001b[0m\u001b[1;33m,\u001b[0m \u001b[1;33m**\u001b[0m\u001b[0mkwargs\u001b[0m\u001b[1;33m)\u001b[0m\u001b[1;33m\u001b[0m\u001b[1;33m\u001b[0m\u001b[0m\n\u001b[0m\u001b[0;32m    207\u001b[0m \u001b[1;33m\u001b[0m\u001b[0m\n\u001b[0;32m    208\u001b[0m         \u001b[0mfinal_res\u001b[0m \u001b[1;33m=\u001b[0m \u001b[1;33m[\u001b[0m\u001b[1;33m]\u001b[0m\u001b[1;33m\u001b[0m\u001b[1;33m\u001b[0m\u001b[0m\n",
      "\u001b[1;32m~\\anaconda3\\envs\\python3\\lib\\site-packages\\pennylane\\interfaces\\execution.py\u001b[0m in \u001b[0;36mfn\u001b[1;34m(tapes, **kwargs)\u001b[0m\n\u001b[0;32m    129\u001b[0m         \u001b[1;32mdef\u001b[0m \u001b[0mfn\u001b[0m\u001b[1;33m(\u001b[0m\u001b[0mtapes\u001b[0m\u001b[1;33m:\u001b[0m \u001b[0mSequence\u001b[0m\u001b[1;33m[\u001b[0m\u001b[0mQuantumTape\u001b[0m\u001b[1;33m]\u001b[0m\u001b[1;33m,\u001b[0m \u001b[1;33m**\u001b[0m\u001b[0mkwargs\u001b[0m\u001b[1;33m)\u001b[0m\u001b[1;33m:\u001b[0m  \u001b[1;31m# pylint: disable=function-redefined\u001b[0m\u001b[1;33m\u001b[0m\u001b[1;33m\u001b[0m\u001b[0m\n\u001b[0;32m    130\u001b[0m             \u001b[0mtapes\u001b[0m \u001b[1;33m=\u001b[0m \u001b[1;33m[\u001b[0m\u001b[0mexpand_fn\u001b[0m\u001b[1;33m(\u001b[0m\u001b[0mtape\u001b[0m\u001b[1;33m)\u001b[0m \u001b[1;32mfor\u001b[0m \u001b[0mtape\u001b[0m \u001b[1;32min\u001b[0m \u001b[0mtapes\u001b[0m\u001b[1;33m]\u001b[0m\u001b[1;33m\u001b[0m\u001b[1;33m\u001b[0m\u001b[0m\n\u001b[1;32m--> 131\u001b[1;33m             \u001b[1;32mreturn\u001b[0m \u001b[0moriginal_fn\u001b[0m\u001b[1;33m(\u001b[0m\u001b[0mtapes\u001b[0m\u001b[1;33m,\u001b[0m \u001b[1;33m**\u001b[0m\u001b[0mkwargs\u001b[0m\u001b[1;33m)\u001b[0m\u001b[1;33m\u001b[0m\u001b[1;33m\u001b[0m\u001b[0m\n\u001b[0m\u001b[0;32m    132\u001b[0m \u001b[1;33m\u001b[0m\u001b[0m\n\u001b[0;32m    133\u001b[0m     \u001b[1;33m@\u001b[0m\u001b[0mwraps\u001b[0m\u001b[1;33m(\u001b[0m\u001b[0mfn\u001b[0m\u001b[1;33m)\u001b[0m\u001b[1;33m\u001b[0m\u001b[1;33m\u001b[0m\u001b[0m\n",
      "\u001b[1;32m~\\anaconda3\\envs\\python3\\lib\\contextlib.py\u001b[0m in \u001b[0;36minner\u001b[1;34m(*args, **kwds)\u001b[0m\n\u001b[0;32m     77\u001b[0m         \u001b[1;32mdef\u001b[0m \u001b[0minner\u001b[0m\u001b[1;33m(\u001b[0m\u001b[1;33m*\u001b[0m\u001b[0margs\u001b[0m\u001b[1;33m,\u001b[0m \u001b[1;33m**\u001b[0m\u001b[0mkwds\u001b[0m\u001b[1;33m)\u001b[0m\u001b[1;33m:\u001b[0m\u001b[1;33m\u001b[0m\u001b[1;33m\u001b[0m\u001b[0m\n\u001b[0;32m     78\u001b[0m             \u001b[1;32mwith\u001b[0m \u001b[0mself\u001b[0m\u001b[1;33m.\u001b[0m\u001b[0m_recreate_cm\u001b[0m\u001b[1;33m(\u001b[0m\u001b[1;33m)\u001b[0m\u001b[1;33m:\u001b[0m\u001b[1;33m\u001b[0m\u001b[1;33m\u001b[0m\u001b[0m\n\u001b[1;32m---> 79\u001b[1;33m                 \u001b[1;32mreturn\u001b[0m \u001b[0mfunc\u001b[0m\u001b[1;33m(\u001b[0m\u001b[1;33m*\u001b[0m\u001b[0margs\u001b[0m\u001b[1;33m,\u001b[0m \u001b[1;33m**\u001b[0m\u001b[0mkwds\u001b[0m\u001b[1;33m)\u001b[0m\u001b[1;33m\u001b[0m\u001b[1;33m\u001b[0m\u001b[0m\n\u001b[0m\u001b[0;32m     80\u001b[0m         \u001b[1;32mreturn\u001b[0m \u001b[0minner\u001b[0m\u001b[1;33m\u001b[0m\u001b[1;33m\u001b[0m\u001b[0m\n\u001b[0;32m     81\u001b[0m \u001b[1;33m\u001b[0m\u001b[0m\n",
      "\u001b[1;32m~\\anaconda3\\envs\\python3\\lib\\site-packages\\pennylane\\_qubit_device.py\u001b[0m in \u001b[0;36mbatch_execute\u001b[1;34m(self, circuits)\u001b[0m\n\u001b[0;32m    654\u001b[0m \u001b[1;33m\u001b[0m\u001b[0m\n\u001b[0;32m    655\u001b[0m             \u001b[1;31m# TODO: Insert control on value here\u001b[0m\u001b[1;33m\u001b[0m\u001b[1;33m\u001b[0m\u001b[0m\n\u001b[1;32m--> 656\u001b[1;33m             \u001b[0mres\u001b[0m \u001b[1;33m=\u001b[0m \u001b[0mself\u001b[0m\u001b[1;33m.\u001b[0m\u001b[0mexecute\u001b[0m\u001b[1;33m(\u001b[0m\u001b[0mcircuit\u001b[0m\u001b[1;33m)\u001b[0m\u001b[1;33m\u001b[0m\u001b[1;33m\u001b[0m\u001b[0m\n\u001b[0m\u001b[0;32m    657\u001b[0m             \u001b[0mresults\u001b[0m\u001b[1;33m.\u001b[0m\u001b[0mappend\u001b[0m\u001b[1;33m(\u001b[0m\u001b[0mres\u001b[0m\u001b[1;33m)\u001b[0m\u001b[1;33m\u001b[0m\u001b[1;33m\u001b[0m\u001b[0m\n\u001b[0;32m    658\u001b[0m \u001b[1;33m\u001b[0m\u001b[0m\n",
      "\u001b[1;32m~\\anaconda3\\envs\\python3\\lib\\site-packages\\pennylane\\_qubit_device.py\u001b[0m in \u001b[0;36mexecute\u001b[1;34m(self, circuit, **kwargs)\u001b[0m\n\u001b[0;32m    430\u001b[0m \u001b[1;33m\u001b[0m\u001b[0m\n\u001b[0;32m    431\u001b[0m         \u001b[1;31m# apply all circuit operations\u001b[0m\u001b[1;33m\u001b[0m\u001b[1;33m\u001b[0m\u001b[0m\n\u001b[1;32m--> 432\u001b[1;33m         \u001b[0mself\u001b[0m\u001b[1;33m.\u001b[0m\u001b[0mapply\u001b[0m\u001b[1;33m(\u001b[0m\u001b[0mcircuit\u001b[0m\u001b[1;33m.\u001b[0m\u001b[0moperations\u001b[0m\u001b[1;33m,\u001b[0m \u001b[0mrotations\u001b[0m\u001b[1;33m=\u001b[0m\u001b[0mcircuit\u001b[0m\u001b[1;33m.\u001b[0m\u001b[0mdiagonalizing_gates\u001b[0m\u001b[1;33m,\u001b[0m \u001b[1;33m**\u001b[0m\u001b[0mkwargs\u001b[0m\u001b[1;33m)\u001b[0m\u001b[1;33m\u001b[0m\u001b[1;33m\u001b[0m\u001b[0m\n\u001b[0m\u001b[0;32m    433\u001b[0m \u001b[1;33m\u001b[0m\u001b[0m\n\u001b[0;32m    434\u001b[0m         \u001b[1;31m# generate computational basis samples\u001b[0m\u001b[1;33m\u001b[0m\u001b[1;33m\u001b[0m\u001b[0m\n",
      "\u001b[1;32m~\\anaconda3\\envs\\python3\\lib\\site-packages\\pennylane\\devices\\default_qubit.py\u001b[0m in \u001b[0;36mapply\u001b[1;34m(self, operations, rotations, **kwargs)\u001b[0m\n\u001b[0;32m    267\u001b[0m                         \u001b[0mself\u001b[0m\u001b[1;33m.\u001b[0m\u001b[0m_debugger\u001b[0m\u001b[1;33m.\u001b[0m\u001b[0msnapshots\u001b[0m\u001b[1;33m[\u001b[0m\u001b[0mlen\u001b[0m\u001b[1;33m(\u001b[0m\u001b[0mself\u001b[0m\u001b[1;33m.\u001b[0m\u001b[0m_debugger\u001b[0m\u001b[1;33m.\u001b[0m\u001b[0msnapshots\u001b[0m\u001b[1;33m)\u001b[0m\u001b[1;33m]\u001b[0m \u001b[1;33m=\u001b[0m \u001b[0mstate_vector\u001b[0m\u001b[1;33m\u001b[0m\u001b[1;33m\u001b[0m\u001b[0m\n\u001b[0;32m    268\u001b[0m             \u001b[1;32melse\u001b[0m\u001b[1;33m:\u001b[0m\u001b[1;33m\u001b[0m\u001b[1;33m\u001b[0m\u001b[0m\n\u001b[1;32m--> 269\u001b[1;33m                 \u001b[0mself\u001b[0m\u001b[1;33m.\u001b[0m\u001b[0m_state\u001b[0m \u001b[1;33m=\u001b[0m \u001b[0mself\u001b[0m\u001b[1;33m.\u001b[0m\u001b[0m_apply_operation\u001b[0m\u001b[1;33m(\u001b[0m\u001b[0mself\u001b[0m\u001b[1;33m.\u001b[0m\u001b[0m_state\u001b[0m\u001b[1;33m,\u001b[0m \u001b[0moperation\u001b[0m\u001b[1;33m)\u001b[0m\u001b[1;33m\u001b[0m\u001b[1;33m\u001b[0m\u001b[0m\n\u001b[0m\u001b[0;32m    270\u001b[0m \u001b[1;33m\u001b[0m\u001b[0m\n\u001b[0;32m    271\u001b[0m         \u001b[1;31m# store the pre-rotated state\u001b[0m\u001b[1;33m\u001b[0m\u001b[1;33m\u001b[0m\u001b[0m\n",
      "\u001b[1;32m~\\anaconda3\\envs\\python3\\lib\\site-packages\\pennylane\\devices\\default_qubit.py\u001b[0m in \u001b[0;36m_apply_operation\u001b[1;34m(self, state, operation)\u001b[0m\n\u001b[0;32m    293\u001b[0m             \u001b[0mshift\u001b[0m \u001b[1;33m=\u001b[0m \u001b[0mint\u001b[0m\u001b[1;33m(\u001b[0m\u001b[0mself\u001b[0m\u001b[1;33m.\u001b[0m\u001b[0m_ndim\u001b[0m\u001b[1;33m(\u001b[0m\u001b[0mstate\u001b[0m\u001b[1;33m)\u001b[0m \u001b[1;33m>\u001b[0m \u001b[0mself\u001b[0m\u001b[1;33m.\u001b[0m\u001b[0mnum_wires\u001b[0m\u001b[1;33m)\u001b[0m\u001b[1;33m\u001b[0m\u001b[1;33m\u001b[0m\u001b[0m\n\u001b[0;32m    294\u001b[0m             \u001b[0maxes\u001b[0m \u001b[1;33m=\u001b[0m \u001b[1;33m[\u001b[0m\u001b[0max\u001b[0m \u001b[1;33m+\u001b[0m \u001b[0mshift\u001b[0m \u001b[1;32mfor\u001b[0m \u001b[0max\u001b[0m \u001b[1;32min\u001b[0m \u001b[0mself\u001b[0m\u001b[1;33m.\u001b[0m\u001b[0mwires\u001b[0m\u001b[1;33m.\u001b[0m\u001b[0mindices\u001b[0m\u001b[1;33m(\u001b[0m\u001b[0mwires\u001b[0m\u001b[1;33m)\u001b[0m\u001b[1;33m]\u001b[0m\u001b[1;33m\u001b[0m\u001b[1;33m\u001b[0m\u001b[0m\n\u001b[1;32m--> 295\u001b[1;33m             \u001b[1;32mreturn\u001b[0m \u001b[0mself\u001b[0m\u001b[1;33m.\u001b[0m\u001b[0m_apply_ops\u001b[0m\u001b[1;33m[\u001b[0m\u001b[0moperation\u001b[0m\u001b[1;33m.\u001b[0m\u001b[0mbase_name\u001b[0m\u001b[1;33m]\u001b[0m\u001b[1;33m(\u001b[0m\u001b[0mstate\u001b[0m\u001b[1;33m,\u001b[0m \u001b[0maxes\u001b[0m\u001b[1;33m,\u001b[0m \u001b[0minverse\u001b[0m\u001b[1;33m=\u001b[0m\u001b[0moperation\u001b[0m\u001b[1;33m.\u001b[0m\u001b[0minverse\u001b[0m\u001b[1;33m)\u001b[0m\u001b[1;33m\u001b[0m\u001b[1;33m\u001b[0m\u001b[0m\n\u001b[0m\u001b[0;32m    296\u001b[0m \u001b[1;33m\u001b[0m\u001b[0m\n\u001b[0;32m    297\u001b[0m         \u001b[0mmatrix\u001b[0m \u001b[1;33m=\u001b[0m \u001b[0mself\u001b[0m\u001b[1;33m.\u001b[0m\u001b[0m_asarray\u001b[0m\u001b[1;33m(\u001b[0m\u001b[0mself\u001b[0m\u001b[1;33m.\u001b[0m\u001b[0m_get_unitary_matrix\u001b[0m\u001b[1;33m(\u001b[0m\u001b[0moperation\u001b[0m\u001b[1;33m)\u001b[0m\u001b[1;33m,\u001b[0m \u001b[0mdtype\u001b[0m\u001b[1;33m=\u001b[0m\u001b[0mself\u001b[0m\u001b[1;33m.\u001b[0m\u001b[0mC_DTYPE\u001b[0m\u001b[1;33m)\u001b[0m\u001b[1;33m\u001b[0m\u001b[1;33m\u001b[0m\u001b[0m\n",
      "\u001b[1;32m~\\anaconda3\\envs\\python3\\lib\\site-packages\\pennylane\\devices\\default_qubit.py\u001b[0m in \u001b[0;36m_apply_hadamard\u001b[1;34m(self, state, axes, **kwargs)\u001b[0m\n\u001b[0;32m    358\u001b[0m             \u001b[0marray\u001b[0m\u001b[1;33m[\u001b[0m\u001b[0mcomplex\u001b[0m\u001b[1;33m]\u001b[0m\u001b[1;33m:\u001b[0m \u001b[0moutput\u001b[0m \u001b[0mstate\u001b[0m\u001b[1;33m\u001b[0m\u001b[1;33m\u001b[0m\u001b[0m\n\u001b[0;32m    359\u001b[0m         \"\"\"\n\u001b[1;32m--> 360\u001b[1;33m         \u001b[0mstate_x\u001b[0m \u001b[1;33m=\u001b[0m \u001b[0mself\u001b[0m\u001b[1;33m.\u001b[0m\u001b[0m_apply_x\u001b[0m\u001b[1;33m(\u001b[0m\u001b[0mstate\u001b[0m\u001b[1;33m,\u001b[0m \u001b[0maxes\u001b[0m\u001b[1;33m)\u001b[0m\u001b[1;33m\u001b[0m\u001b[1;33m\u001b[0m\u001b[0m\n\u001b[0m\u001b[0;32m    361\u001b[0m         \u001b[0mstate_z\u001b[0m \u001b[1;33m=\u001b[0m \u001b[0mself\u001b[0m\u001b[1;33m.\u001b[0m\u001b[0m_apply_z\u001b[0m\u001b[1;33m(\u001b[0m\u001b[0mstate\u001b[0m\u001b[1;33m,\u001b[0m \u001b[0maxes\u001b[0m\u001b[1;33m)\u001b[0m\u001b[1;33m\u001b[0m\u001b[1;33m\u001b[0m\u001b[0m\n\u001b[0;32m    362\u001b[0m         \u001b[1;32mreturn\u001b[0m \u001b[0mself\u001b[0m\u001b[1;33m.\u001b[0m\u001b[0m_const_mul\u001b[0m\u001b[1;33m(\u001b[0m\u001b[0mSQRT2INV\u001b[0m\u001b[1;33m,\u001b[0m \u001b[0mstate_x\u001b[0m \u001b[1;33m+\u001b[0m \u001b[0mstate_z\u001b[0m\u001b[1;33m)\u001b[0m\u001b[1;33m\u001b[0m\u001b[1;33m\u001b[0m\u001b[0m\n",
      "\u001b[1;32m~\\anaconda3\\envs\\python3\\lib\\site-packages\\pennylane\\devices\\default_qubit.py\u001b[0m in \u001b[0;36m_apply_x\u001b[1;34m(self, state, axes, **kwargs)\u001b[0m\n\u001b[0;32m    320\u001b[0m             \u001b[0marray\u001b[0m\u001b[1;33m[\u001b[0m\u001b[0mcomplex\u001b[0m\u001b[1;33m]\u001b[0m\u001b[1;33m:\u001b[0m \u001b[0moutput\u001b[0m \u001b[0mstate\u001b[0m\u001b[1;33m\u001b[0m\u001b[1;33m\u001b[0m\u001b[0m\n\u001b[0;32m    321\u001b[0m         \"\"\"\n\u001b[1;32m--> 322\u001b[1;33m         \u001b[1;32mreturn\u001b[0m \u001b[0mself\u001b[0m\u001b[1;33m.\u001b[0m\u001b[0m_roll\u001b[0m\u001b[1;33m(\u001b[0m\u001b[0mstate\u001b[0m\u001b[1;33m,\u001b[0m \u001b[1;36m1\u001b[0m\u001b[1;33m,\u001b[0m \u001b[0maxes\u001b[0m\u001b[1;33m[\u001b[0m\u001b[1;36m0\u001b[0m\u001b[1;33m]\u001b[0m\u001b[1;33m)\u001b[0m\u001b[1;33m\u001b[0m\u001b[1;33m\u001b[0m\u001b[0m\n\u001b[0m\u001b[0;32m    323\u001b[0m \u001b[1;33m\u001b[0m\u001b[0m\n\u001b[0;32m    324\u001b[0m     \u001b[1;32mdef\u001b[0m \u001b[0m_apply_y\u001b[0m\u001b[1;33m(\u001b[0m\u001b[0mself\u001b[0m\u001b[1;33m,\u001b[0m \u001b[0mstate\u001b[0m\u001b[1;33m,\u001b[0m \u001b[0maxes\u001b[0m\u001b[1;33m,\u001b[0m \u001b[1;33m**\u001b[0m\u001b[0mkwargs\u001b[0m\u001b[1;33m)\u001b[0m\u001b[1;33m:\u001b[0m\u001b[1;33m\u001b[0m\u001b[1;33m\u001b[0m\u001b[0m\n",
      "\u001b[1;32m~\\anaconda3\\envs\\python3\\lib\\site-packages\\numpy\\core\\overrides.py\u001b[0m in \u001b[0;36mroll\u001b[1;34m(*args, **kwargs)\u001b[0m\n",
      "\u001b[1;32m~\\anaconda3\\envs\\python3\\lib\\site-packages\\numpy\\core\\numeric.py\u001b[0m in \u001b[0;36mroll\u001b[1;34m(a, shift, axis)\u001b[0m\n\u001b[0;32m   1246\u001b[0m         \u001b[1;32mfor\u001b[0m \u001b[0mindices\u001b[0m \u001b[1;32min\u001b[0m \u001b[0mitertools\u001b[0m\u001b[1;33m.\u001b[0m\u001b[0mproduct\u001b[0m\u001b[1;33m(\u001b[0m\u001b[1;33m*\u001b[0m\u001b[0mrolls\u001b[0m\u001b[1;33m)\u001b[0m\u001b[1;33m:\u001b[0m\u001b[1;33m\u001b[0m\u001b[1;33m\u001b[0m\u001b[0m\n\u001b[0;32m   1247\u001b[0m             \u001b[0marr_index\u001b[0m\u001b[1;33m,\u001b[0m \u001b[0mres_index\u001b[0m \u001b[1;33m=\u001b[0m \u001b[0mzip\u001b[0m\u001b[1;33m(\u001b[0m\u001b[1;33m*\u001b[0m\u001b[0mindices\u001b[0m\u001b[1;33m)\u001b[0m\u001b[1;33m\u001b[0m\u001b[1;33m\u001b[0m\u001b[0m\n\u001b[1;32m-> 1248\u001b[1;33m             \u001b[0mresult\u001b[0m\u001b[1;33m[\u001b[0m\u001b[0mres_index\u001b[0m\u001b[1;33m]\u001b[0m \u001b[1;33m=\u001b[0m \u001b[0ma\u001b[0m\u001b[1;33m[\u001b[0m\u001b[0marr_index\u001b[0m\u001b[1;33m]\u001b[0m\u001b[1;33m\u001b[0m\u001b[1;33m\u001b[0m\u001b[0m\n\u001b[0m\u001b[0;32m   1249\u001b[0m \u001b[1;33m\u001b[0m\u001b[0m\n\u001b[0;32m   1250\u001b[0m         \u001b[1;32mreturn\u001b[0m \u001b[0mresult\u001b[0m\u001b[1;33m\u001b[0m\u001b[1;33m\u001b[0m\u001b[0m\n",
      "\u001b[1;31mKeyboardInterrupt\u001b[0m: "
     ]
    }
   ],
   "source": [
    "# create a grid of errors\n",
    "epsilon_grid = [1 - 0.1 * x for x in range(9)]\n",
    "shadow_sizes = []\n",
    "estimates = []\n",
    "\n",
    "for error in epsilon_grid:\n",
    "    # get the number of samples needed so that the absolute error < epsilon.\n",
    "    shadow_size_bound, k = shadow_bound(\n",
    "        error=error, observables=[qml.matrix(o) for o in list_of_observables]\n",
    "    )\n",
    "    shadow_sizes.append(shadow_size_bound)\n",
    "    print(f\"{shadow_size_bound} samples required \")\n",
    "    # calculate a shadow of the appropriate size\n",
    "    shadow = calculate_classical_shadow(circuit, params, shadow_size_bound, num_qubits)\n",
    "\n",
    "    # estimate all the observables in O\n",
    "    estimates.append([estimate_shadow_obervable(shadow, o, k=k) for o in list_of_observables])"
   ]
  },
  {
   "cell_type": "code",
   "execution_count": null,
   "id": "96ccfaf8",
   "metadata": {},
   "outputs": [],
   "source": []
  },
  {
   "cell_type": "code",
   "execution_count": null,
   "id": "507dbf2a",
   "metadata": {},
   "outputs": [],
   "source": []
  },
  {
   "cell_type": "code",
   "execution_count": null,
   "id": "58507d93",
   "metadata": {},
   "outputs": [],
   "source": []
  },
  {
   "cell_type": "code",
   "execution_count": null,
   "id": "72ba8e67",
   "metadata": {},
   "outputs": [],
   "source": []
  },
  {
   "cell_type": "code",
   "execution_count": null,
   "id": "af4b26fc",
   "metadata": {},
   "outputs": [],
   "source": []
  },
  {
   "cell_type": "code",
   "execution_count": null,
   "id": "cc242c34",
   "metadata": {},
   "outputs": [],
   "source": []
  }
 ],
 "metadata": {
  "kernelspec": {
   "display_name": "'python3'",
   "language": "python",
   "name": "myenv"
  },
  "language_info": {
   "codemirror_mode": {
    "name": "ipython",
    "version": 3
   },
   "file_extension": ".py",
   "mimetype": "text/x-python",
   "name": "python",
   "nbconvert_exporter": "python",
   "pygments_lexer": "ipython3",
   "version": "3.9.15"
  }
 },
 "nbformat": 4,
 "nbformat_minor": 5
}
