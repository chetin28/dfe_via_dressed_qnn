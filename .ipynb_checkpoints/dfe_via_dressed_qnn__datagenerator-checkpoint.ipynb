{
 "cells": [
  {
   "cell_type": "code",
   "execution_count": 1,
   "id": "e72546e2",
   "metadata": {},
   "outputs": [],
   "source": [
    "import numpy as np\n",
    "from qiskit.quantum_info.operators import Operator, Pauli\n",
    "from qiskit.opflow import CircuitOp, CircuitStateFn\n",
    "from qiskit import *\n",
    "from qiskit.opflow.state_fns import StateFn\n",
    "from qiskit.providers.aer import *\n",
    "from qiskit.opflow.expectations import MatrixExpectation\n",
    "from qiskit.opflow.converters import CircuitSampler"
   ]
  },
  {
   "cell_type": "markdown",
   "id": "3ea9e45c",
   "metadata": {},
   "source": [
    "# Generate data"
   ]
  },
  {
   "cell_type": "code",
   "execution_count": 2,
   "id": "9f9f3104",
   "metadata": {},
   "outputs": [],
   "source": [
    "def data_generator(n_qubits, data_size):\n",
    "    data = []\n",
    "    for i in range(data_size):\n",
    "        #theoretical expectation values\n",
    "        paulis = ['I', 'X', 'Y', 'Z']\n",
    "        W_j = [] # list of selected pauli ops\n",
    "        op = [] # turn into qiskit ops\n",
    "        for i in range(n_qubits):\n",
    "            randomm = np.random.randint(0,3,size=n_qubits) # generate random number\n",
    "            W_j.append(paulis[randomm[0]]+paulis[randomm[1]]) # using that random number, construct W_j\n",
    "\n",
    "        for i in range(len(W_j)):\n",
    "            op.append(Operator(Pauli(W_j[i]))) #turn W_j into Operator list\n",
    "\n",
    "        expvals_th, pauli_tensor = [], []\n",
    "        psi = QuantumCircuit(2) # arbitrary quantum state for expectation values\n",
    "        psi = CircuitStateFn(psi)\n",
    "        for i in range(len(op)):\n",
    "            circuit = QuantumCircuit(2)\n",
    "            circuit.h(0)\n",
    "            circuit.append(op[i],[0,1])\n",
    "            pauli_tensor.append(CircuitOp(circuit))\n",
    "            expval = psi.adjoint().compose(pauli_tensor[i]).compose(psi).eval().real\n",
    "            expvals.append(expval)\n",
    "        \n",
    "\n",
    "        ## experimental expvals    #### will be changed with ibmq  #######\n",
    "        ''' dogrudan olcum setupinda qst de eklenecek, actual fidelityler lazim'''\n",
    "        expvals_exp = []\n",
    "        for i in range(len(pauli_tensor)):\n",
    "            measure = StateFn(pauli_tensor[i], is_measurement=True).compose(psi)\n",
    "            expectation = MatrixExpectation().convert(measure)\n",
    "            sim = AerSimulator()\n",
    "            sampler = CircuitSampler(sim).convert(expectation)\n",
    "            expvals_exp.append(sampler.eval().real)\n",
    "                \n",
    "        # actual fidelities\n",
    "        backend = AerSimulator()\n",
    "        #generate list of pauli gates size of n_qubits\n",
    "        tomopaulis = []\n",
    "        for i in range(n_qubits):\n",
    "            zzz = np.random.randint(0,3,size=1)\n",
    "            if zzz == 0:\n",
    "                tomopaulis.append('I')\n",
    "            elif zzz == 1:\n",
    "                tomopaulis.append('X')\n",
    "            elif zzz == 2:\n",
    "                tomopaulis.append('Y')\n",
    "            else:\n",
    "                tomopaulis.append('Z')\n",
    "\n",
    "        gates = [qiskit.circuit.library.PauliGate(i) for i in tomopaulis]\n",
    "        subexps = [StateTomography(gate, qubits=[i]) for i, gate in enumerate(gates)]\n",
    "        tomoexp = ParallelExperiment(subexps)\n",
    "        tomodata = tomoexp.run(backend, seed_simulation=100).block_for_results()\n",
    "\n",
    "        fidel_actual = []\n",
    "        for i, expdata in enumerate(tomodata.child_data()):\n",
    "            state_result_i = expdata.analysis_results(\"state\")\n",
    "            fidelity_result_i = expdata.analysis_results(\"state_fidelity\")\n",
    "            fidel_actual.append(fidelity_result_i.value)\n",
    "            \n",
    "        datum=[W_j, expvals_th, expvals_exp, fidel_actual]\n",
    "        data.append(datum)\n",
    "\n",
    "    return data"
   ]
  },
  {
   "cell_type": "code",
   "execution_count": 6,
   "id": "3b89f1d9",
   "metadata": {},
   "outputs": [
    {
     "name": "stdout",
     "output_type": "stream",
     "text": [
      "['IX', 'XX', 'XY', 'IX', 'YI']\n",
      "[0.7071067811865475, 0.0, 0.0, 0.7071067811865475, 0.0]\n",
      "     ┌───┐┌──────────┐\n",
      "q_0: ┤ H ├┤0         ├\n",
      "     └───┘│  Unitary │\n",
      "q_1: ─────┤1         ├\n",
      "          └──────────┘\n"
     ]
    }
   ],
   "source": [
    "## theoretical expectation values\n",
    "\n",
    "n_qubits = 5\n",
    "paulis = ['I', 'X', 'Y', 'Z']\n",
    "W_j = [] # list of selected pauli ops\n",
    "op = [] # turn into qiskit ops\n",
    "for i in range(n_qubits):\n",
    "    randomm = np.random.randint(0,3,size=n_qubits) # generate random number\n",
    "    W_j.append(paulis[randomm[0]]+paulis[randomm[1]]) # using that random number, construct W_j\n",
    "    \n",
    "for i in range(len(W_j)):\n",
    "    op.append(Operator(Pauli(W_j[i]))) #turn W_j into Operator list\n",
    "    \n",
    "expvals, pauli_tensor = [], []\n",
    "psi = QuantumCircuit(2) # arbitrary quantum state for expectation values\n",
    "psi = CircuitStateFn(psi)\n",
    "for i in range(len(op)):\n",
    "    circuit = QuantumCircuit(2)\n",
    "    circuit.h(0)\n",
    "    circuit.append(op[i],[0,1])\n",
    "    pauli_tensor.append(CircuitOp(circuit))\n",
    "    expval = psi.adjoint().compose(pauli_tensor[i]).compose(psi).eval().real\n",
    "    expvals.append(expval)\n",
    "print(W_j)\n",
    "print(expvals)\n",
    "print(circuit)"
   ]
  },
  {
   "cell_type": "code",
   "execution_count": 7,
   "id": "bbd4db5a",
   "metadata": {},
   "outputs": [
    {
     "name": "stdout",
     "output_type": "stream",
     "text": [
      "[0.7071067811865475, 0.0, 0.0, 0.7071067811865475, 0.0]\n"
     ]
    }
   ],
   "source": [
    "## experimental expvals    #### will be changed with ibmq  #######\n",
    "''' dogrudan olcum setupinda qst de eklenecek, actual fidelityler lazim'''\n",
    "from qiskit.opflow.state_fns import StateFn\n",
    "from qiskit.opflow.expectations import MatrixExpectation\n",
    "from qiskit.opflow.converters import CircuitSampler\n",
    "from qiskit.providers.aer import *\n",
    "results=[]\n",
    "for i in range(len(pauli_tensor)):\n",
    "    measure = StateFn(pauli_tensor[i], is_measurement=True).compose(psi)\n",
    "    expectation = MatrixExpectation().convert(measure)\n",
    "    sim = AerSimulator()\n",
    "    sampler = CircuitSampler(sim).convert(expectation)\n",
    "    results.append(sampler.eval().real)\n",
    "print(results)"
   ]
  },
  {
   "cell_type": "code",
   "execution_count": null,
   "id": "b152b905",
   "metadata": {},
   "outputs": [],
   "source": [
    "print(W_j)"
   ]
  },
  {
   "cell_type": "markdown",
   "id": "64a2eaf5",
   "metadata": {},
   "source": [
    "\n",
    "for i in range(n_qubits):\n",
    "    print(i)\n",
    "tomopauliss=[]\n",
    "for i in range(n_qubits):\n",
    "    zzz = np.random.randint(0,3,size=1)\n",
    "    if zzz == 0:\n",
    "        tomopauliss.append('I')\n",
    "    elif zzz == 1:\n",
    "        tomopauliss.append('X')\n",
    "    elif zzz == 2:\n",
    "        tomopauliss.append('Y')\n",
    "    else:\n",
    "        tomopauliss.append('Z')\n",
    "    print(zzz)\n",
    "    print(tomopauliss)\n",
    "print(tomopauliss)"
   ]
  },
  {
   "cell_type": "code",
   "execution_count": null,
   "id": "2e6cfd2c",
   "metadata": {},
   "outputs": [],
   "source": [
    "# actual values measured using quantum state tomography via pauli gates\n",
    "from math import pi\n",
    "import qiskit\n",
    "from qiskit_experiments.library import StateTomography\n",
    "from qiskit_experiments.framework import ParallelExperiment\n",
    "# For simulation\n",
    "from qiskit.providers.aer import *\n",
    "from qiskit.providers.fake_provider import FakeParis\n",
    "circuit = QuantumCircuit(2)\n",
    "\n",
    "backend = AerSimulator()\n",
    "#generate list of pauli gates size of n_qubits\n",
    "tomopaulis = []\n",
    "for i in range(n_qubits):\n",
    "    zzz = np.random.randint(0,3,size=1)\n",
    "    if zzz == 0:\n",
    "        tomopaulis.append('I')\n",
    "    elif zzz == 1:\n",
    "        tomopaulis.append('X')\n",
    "    elif zzz == 2:\n",
    "        tomopaulis.append('Y')\n",
    "    else:\n",
    "        tomopaulis.append('Z')\n",
    "\n",
    "gates = [qiskit.circuit.library.PauliGate(i) for i in tomopaulis]\n",
    "subexps = [StateTomography(gate, qubits=[i]) for i, gate in enumerate(gates)]\n",
    "tomoexp = ParallelExperiment(subexps)\n",
    "tomodata = tomoexp.run(circuit, backend, seed_simulation=100).block_for_results()\n",
    "\n",
    "fidel_actual = []\n",
    "for i, expdata in enumerate(tomodata.child_data()):\n",
    "    state_result_i = expdata.analysis_results(\"state\")\n",
    "    fidelity_result_i = expdata.analysis_results(\"state_fidelity\")\n",
    "    fidel_actual.append(fidelity_result_i.value)\n",
    "    print(f'\\nPARALLEL EXP {i}')\n",
    "    print(\"State Fidelity: {:.5f}\".format(fidelity_result_i.value))\n",
    "    print(\"State: {}\".format(state_result_i.value))\n"
   ]
  },
  {
   "cell_type": "code",
   "execution_count": null,
   "id": "9b610e82",
   "metadata": {},
   "outputs": [],
   "source": [
    "AerSimulator.available_devices(AerSimulator)"
   ]
  },
  {
   "cell_type": "code",
   "execution_count": null,
   "id": "7333c36e",
   "metadata": {},
   "outputs": [],
   "source": [
    "print(fidel_actual)"
   ]
  }
 ],
 "metadata": {
  "kernelspec": {
   "display_name": "'python3'",
   "language": "python",
   "name": "myenv"
  },
  "language_info": {
   "codemirror_mode": {
    "name": "ipython",
    "version": 3
   },
   "file_extension": ".py",
   "mimetype": "text/x-python",
   "name": "python",
   "nbconvert_exporter": "python",
   "pygments_lexer": "ipython3",
   "version": "3.9.15"
  }
 },
 "nbformat": 4,
 "nbformat_minor": 5
}
