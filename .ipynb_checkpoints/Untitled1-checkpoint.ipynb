{
 "cells": [
  {
   "cell_type": "code",
   "execution_count": 1,
   "id": "609f970a",
   "metadata": {},
   "outputs": [],
   "source": [
    "from qiskit import *\n",
    "from qiskit import Aer, execute\n",
    "from qiskit.providers.aer.library import save_statevector\n",
    "from qiskit.tools import job_monitor\n",
    "import numpy as np\n",
    "import matplotlib.pyplot as plt\n",
    "np.random.seed(31)\n",
    "\n",
    "## ibmq-manila:   0=1=2=3=4  (entanglements)\n",
    "\n",
    "IBMQ.load_account()\n",
    "provider = IBMQ.get_provider(hub='ibm-q', group='open', project='main')\n",
    "backend = provider.get_backend(\"ibmq_manila\")"
   ]
  },
  {
   "cell_type": "code",
   "execution_count": 2,
   "id": "57581629",
   "metadata": {
    "scrolled": true
   },
   "outputs": [
    {
     "name": "stdout",
     "output_type": "stream",
     "text": [
      "Job Status: job has successfully run\n",
      "Job Status: job has successfully run\n",
      "Job Status: job has successfully run\n",
      "Job Status: job has successfully run\n",
      "Job Status: job has successfully run\n",
      "Job Status: job has successfully run\n",
      "Job Status: job has successfully run\n",
      "Job Status: job has successfully run\n",
      "Job Status: job has successfully run\n",
      "Job Status: job has successfully run\n",
      "exp:  [[0.25+0.j  0.45-0.3j 0.75+0.j  1.35-0.9j]\n",
      " [0.45+0.3j 0.25+0.j  1.35+0.9j 0.75+0.j ]\n",
      " [0.75+0.j  1.35-0.9j 0.25+0.j  0.45-0.3j]\n",
      " [1.35+0.9j 0.75+0.j  0.45+0.3j 0.25+0.j ]]\n",
      "state distance = (3.6055512754639887+0j)\n",
      "accuracy = (-260.55512754639886+0j)\n"
     ]
    }
   ],
   "source": [
    "## classical shadow+\n",
    "''' 100 calls per minute\n",
    " 1000 calls per hour\n",
    "'''\n",
    "def snap(op):\n",
    "    qc = QuantumCircuit(2)\n",
    "    unitary_ensemble = [[qc.h], [qc.sdg,qc.h],[qc.id]]\n",
    "    for i in unitary_ensemble[op[0]]:\n",
    "        i(0)\n",
    "    for i in unitary_ensemble[op[1]]:\n",
    "        i(1)\n",
    "    qc.measure_all()\n",
    "    trans = transpile(qc, backend)\n",
    "    job = backend.run(trans)\n",
    "    job_monitor(job,interval=2)\n",
    "    job.status()\n",
    "    resolt = job.result()\n",
    "    counts = resolt.get_counts()\n",
    "    return counts\n",
    "\n",
    "def distance(rho):\n",
    "    return np.sqrt(np.trace(rho.conjugate().transpose().dot(rho)))\n",
    "\n",
    "hadamard = 1/ (np.sqrt(2)*np.array([[1,1],[1,-1]]))\n",
    "s_gate = np.array([[1,0],[0,-1j]], dtype=complex)\n",
    "identity = np.identity(2)\n",
    "unitary = [hadamard, np.dot(hadamard,s_gate),identity]\n",
    "num_snap = 10\n",
    "ket_0 = np.array([[1,0],[0,0]])\n",
    "ket_1 = np.array([[0,0],[0,1]])\n",
    "kets = [ket_0, ket_1]\n",
    "hist_rho = np.zeros([4,4])\n",
    "rhos = []\n",
    "for i in range(num_snap):\n",
    "    random = np.random.randint(0,2,size=2)\n",
    "    result = snap(random)\n",
    "    \n",
    "    cl0, cl1 = [int(i) for i in list(result.keys())[0]]\n",
    "    U0, U1 = unitary[random[0]], unitary[random[1]]\n",
    "    local_rho = np.kron(3 * U0.conjugate().transpose() @ kets[cl0] @ U0 - identity, \n",
    "                        3 * U1.conjugate().transpose() @ kets[cl1] @ U1 - identity)\n",
    "    rhos.append(local_rho)\n",
    "    hist_rho = hist_rho + local_rho\n",
    "    \n",
    "hist_rho = hist_rho/num_snap\n",
    "bell_theoretical = np.array([[1, 0, 0, 0], [0, 0, 0, 0], [0, 0, 0, 0], [1, 0, 0, 0]])\n",
    "print('exp: ', hist_rho)\n",
    "print(f'state distance = {distance(hist_rho - bell_theoretical)}')\n",
    "print(f'accuracy = {100*(1-distance((hist_rho - bell_theoretical)))}')\n",
    "    \n"
   ]
  },
  {
   "cell_type": "code",
   "execution_count": 3,
   "id": "f728f62c",
   "metadata": {},
   "outputs": [
    {
     "name": "stdout",
     "output_type": "stream",
     "text": [
      "[[0.25+0.j   0.  -0.75j 0.75+0.j   0.  -2.25j]\n",
      " [0.  +0.75j 0.25+0.j   0.  +2.25j 0.75+0.j  ]\n",
      " [0.75+0.j   0.  -2.25j 0.25+0.j   0.  -0.75j]\n",
      " [0.  +2.25j 0.75+0.j   0.  +0.75j 0.25+0.j  ]]\n"
     ]
    }
   ],
   "source": [
    "print(local_rho)"
   ]
  },
  {
   "cell_type": "code",
   "execution_count": 5,
   "id": "c7a039da",
   "metadata": {},
   "outputs": [
    {
     "name": "stdout",
     "output_type": "stream",
     "text": [
      "[1.+0.j 0.+0.j 0.+0.j 0.+0.j]\n"
     ]
    }
   ],
   "source": [
    "from qiskit import BasicAer\n",
    "\n",
    "qcc = QuantumCircuit(2,1)\n",
    "qcc.measure_all()\n",
    "\n",
    "backendd = BasicAer.get_backend('statevector_simulator')\n",
    "jobb = execute(qcc, backendd)\n",
    "resultt = jobb.result()\n",
    "state_vectorr = resultt.get_statevector()\n",
    "print(state_vectorr)"
   ]
  },
  {
   "cell_type": "code",
   "execution_count": null,
   "id": "0f2300ed",
   "metadata": {},
   "outputs": [],
   "source": [
    "print(len(rhos))"
   ]
  },
  {
   "cell_type": "code",
   "execution_count": null,
   "id": "3d4eec03",
   "metadata": {},
   "outputs": [],
   "source": [
    "from qiskit.quantum_info.operators import Operator, Pauli\n",
    "from qiskit.opflow import CircuitOp, CircuitStateFn\n",
    "\n",
    "## theoretical expectation values\n",
    "\n",
    "n_qubits = 7\n",
    "paulis = ['I', 'X', 'Y', 'Z']\n",
    "W_j = [] # list of selected pauli ops\n",
    "op = [] # turn into qiskit ops\n",
    "for i in range(n_qubits):\n",
    "    randomm = np.random.randint(0,3,size=n_qubits)\n",
    "    W_j.append(paulis[randomm[0]]+paulis[randomm[1]])\n",
    "    \n",
    "for i in range(len(W_j)):\n",
    "    op.append(Operator(Pauli(W_j[i])))\n",
    "    \n",
    "expvals, pauli_tensor = [], []\n",
    "psi = QuantumCircuit(2) \n",
    "psi = CircuitStateFn(psi)\n",
    "for i in range(len(op)):\n",
    "    circuit = QuantumCircuit(2)\n",
    "    circuit.h(0)\n",
    "    circuit.append(op[i],[0,1])\n",
    "    pauli_tensor.append(CircuitOp(circuit))\n",
    "    expval = psi.adjoint().compose(pauli_tensor[i]).compose(psi).eval().real\n",
    "    expvals.append(expval)\n",
    "print(W_j)\n",
    "print(expvals)\n",
    "print(pauli_tensor[0]==pauli_tensor[1])\n",
    "print(circuit)"
   ]
  },
  {
   "cell_type": "code",
   "execution_count": null,
   "id": "f86a0fc5",
   "metadata": {},
   "outputs": [],
   "source": [
    "from qiskit.opflow.state_fns import StateFn\n",
    "from qiskit.providers.aer import QasmSimulator\n",
    "from qiskit.opflow.expectations import MatrixExpectation\n",
    "from qiskit.opflow.converters import CircuitSampler\n",
    "\n",
    "results=[]\n",
    "for i in range(len(pauli_tensor)):\n",
    "    measure = StateFn(pauli_tensor[i], is_measurement=True).compose(psi)\n",
    "    expectation = MatrixExpectation().convert(measure)\n",
    "    sim = QasmSimulator()\n",
    "    sampler = CircuitSampler(sim).convert(expectation)\n",
    "    results.append(sampler.eval().real)\n",
    "print(results)"
   ]
  },
  {
   "cell_type": "markdown",
   "id": "0fb9c545",
   "metadata": {},
   "source": [
    "## measurement\n",
    "def measurement_op(n_qubits):\n",
    "    circuit = QuantumCircuit(n_qubits)\n",
    "    for i in range(len(n_qubits)):\n",
    "        circuit.\n",
    "\n"
   ]
  },
  {
   "cell_type": "markdown",
   "id": "c1f17eba",
   "metadata": {},
   "source": [
    "\n",
    "    rhohat = np.kron(3* U0.conj().T @ states[bit0] @ U0 - id , 3* U1.conj().T @ states[bit1] @ U1 - id)\n",
    "    record_rho = record_rho + rhohat\n",
    "    \n",
    "record_rho = record_rho/snapshot_num\n",
    "bell_state = np.array([[0.5, 0, 0, 0.5], [0, 0, 0, 0], [0, 0, 0, 0], [0.5, 0, 0, 0.5]])\n",
    "\n",
    "print(\"State distance\")\n",
    "print(distance(record_rho - bell_state))\n",
    "\n",
    "# VERIFICATION\n",
    "print(\"verify 2-local expecations converge\")\n",
    "I = np.eye(2)\n",
    "X = np.array([[0, 1], [1, 0]])\n",
    "Y = np.array([[0, -1j], [1j, 0]])\n",
    "Z = np.array([[1, 0], [0, -1]])\n",
    "paulis = [I, X, Y, Z]\n",
    "\n",
    "for i in range(4):\n",
    "    for j in range(4):\n",
    "        twolocal_pauli = np.kron(paulis[i], paulis[j])\n",
    "        expectation_true = np.trace(bell_state @ twolocal_pauli)\n",
    "        expectation_rhohat = np.trace(record_rho @ twolocal_pauli)\n",
    "        print((i,j), abs(expectation_true - expectation_rhohat))"
   ]
  }
 ],
 "metadata": {
  "kernelspec": {
   "display_name": "'python3'",
   "language": "python",
   "name": "myenv"
  },
  "language_info": {
   "codemirror_mode": {
    "name": "ipython",
    "version": 3
   },
   "file_extension": ".py",
   "mimetype": "text/x-python",
   "name": "python",
   "nbconvert_exporter": "python",
   "pygments_lexer": "ipython3",
   "version": "3.9.15"
  }
 },
 "nbformat": 4,
 "nbformat_minor": 5
}
