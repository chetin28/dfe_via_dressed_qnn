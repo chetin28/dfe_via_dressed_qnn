{
 "cells": [
  {
   "cell_type": "code",
   "execution_count": 1,
   "id": "25aef7a0",
   "metadata": {},
   "outputs": [],
   "source": [
    "import numpy as np\n",
    "import qiskit\n",
    "from qiskit.quantum_info.operators import Operator, Pauli\n",
    "from qiskit.opflow import CircuitOp, CircuitStateFn\n",
    "from qiskit import *\n",
    "from qiskit.opflow.state_fns import StateFn\n",
    "from qiskit.providers.aer import *\n",
    "from qiskit.opflow.expectations import MatrixExpectation\n",
    "from qiskit.opflow.converters import CircuitSampler\n",
    "from qiskit_experiments.library import StateTomography\n",
    "from qiskit_experiments.framework import ParallelExperiment\n",
    "import pennylane as qml\n",
    "import torch\n",
    "import torch.nn as nn\n",
    "np.random.seed(31)"
   ]
  },
  {
   "cell_type": "code",
   "execution_count": 2,
   "id": "c48c590f",
   "metadata": {},
   "outputs": [],
   "source": [
    "def data_generator(n_qubits, data_size):\n",
    "    '''generates data for fidelity trainings\n",
    "    returns data [list] containing elements, datum with structure:\n",
    "    datum = [list of selected pauli operators,\n",
    "            theoretical expectation values, \n",
    "            experimental expectation values,\n",
    "            actual fidelity values ]\n",
    "        '''\n",
    "    \n",
    "    data = []\n",
    "    for i in range(data_size):\n",
    "        #theoretical expectation values\n",
    "        paulis = ['I', 'X', 'Y', 'Z']\n",
    "        W_j = [] # list of selected pauli ops\n",
    "        wj = [] # list of selected paulis for training\n",
    "        op = [] # turn into qiskit ops\n",
    "        for i in range(n_qubits):\n",
    "            randomm = np.random.randint(0,3,size=n_qubits) # generate random number\n",
    "            W_j.append(paulis[randomm[0]]+paulis[randomm[1]]) # using that random number, construct W_j\n",
    "            wj.append(randomm)\n",
    "        for i in range(len(W_j)):\n",
    "            op.append(Operator(Pauli(W_j[i]))) #turn W_j into Operator list\n",
    "\n",
    "        expvals_th, pauli_tensor = [], []\n",
    "        psi = QuantumCircuit(2) # arbitrary quantum state for expectation values\n",
    "        psi = CircuitStateFn(psi)\n",
    "        for i in range(len(op)):\n",
    "            circuit = QuantumCircuit(2)\n",
    "            #circuit.h(0)\n",
    "            circuit.append(op[i],[0,1])\n",
    "            pauli_tensor.append(CircuitOp(circuit))\n",
    "            expval = psi.adjoint().compose(pauli_tensor[i]).compose(psi).eval().real\n",
    "            expvals_th.append(expval)\n",
    "        \n",
    "\n",
    "        ## experimental expvals    #### will be changed with ibmq  #######\n",
    "        ''' dogrudan olcum setupinda qst de eklenecek, actual fidelityler lazim'''\n",
    "        expvals_exp = []\n",
    "        for i in range(len(pauli_tensor)):\n",
    "            measure = StateFn(pauli_tensor[i], is_measurement=True).compose(psi)\n",
    "            expectation = MatrixExpectation().convert(measure)\n",
    "            sim = AerSimulator()\n",
    "            sampler = CircuitSampler(sim).convert(expectation)\n",
    "            expvals_exp.append(sampler.eval().real)\n",
    "                \n",
    "        # actual fidelities\n",
    "        backend = AerSimulator()\n",
    "        #generate list of pauli gates size of n_qubits\n",
    "        tomopaulis = []\n",
    "        for i in range(n_qubits):\n",
    "            zzz = np.random.randint(0,3,size=1)\n",
    "            if zzz == 0:\n",
    "                tomopaulis.append('I')\n",
    "            elif zzz == 1:\n",
    "                tomopaulis.append('X')\n",
    "            elif zzz == 2:\n",
    "                tomopaulis.append('Y')\n",
    "            else:\n",
    "                tomopaulis.append('Z')\n",
    "\n",
    "        gates = [qiskit.circuit.library.PauliGate(i) for i in tomopaulis]\n",
    "        subexps = [StateTomography(gate, qubits=[i]) for i, gate in enumerate(gates)]\n",
    "        tomoexp = ParallelExperiment(subexps)\n",
    "        tomodata = tomoexp.run(backend, seed_simulation=100).block_for_results()\n",
    "\n",
    "        fidel_actual = []\n",
    "        for i, expdata in enumerate(tomodata.child_data()):\n",
    "            state_result_i = expdata.analysis_results(\"state\")\n",
    "            fidelity_result_i = expdata.analysis_results(\"state_fidelity\")\n",
    "            fidel_actual.append(fidelity_result_i.value)\n",
    "            \n",
    "        datum=[wj, expvals_th, expvals_exp, fidel_actual]\n",
    "        data.append(datum)\n",
    "\n",
    "    return data"
   ]
  },
  {
   "cell_type": "code",
   "execution_count": 3,
   "id": "4c852f6e",
   "metadata": {},
   "outputs": [
    {
     "name": "stdout",
     "output_type": "stream",
     "text": [
      "Wall time: 2min 2s\n"
     ]
    },
    {
     "data": {
      "text/plain": [
       "'datum = [list of selected pauli operators, 0\\n            theoretical expectation values, 1\\n            experimental expectation values, 2\\n            actual fidelity values, 3  ]'"
      ]
     },
     "execution_count": 3,
     "metadata": {},
     "output_type": "execute_result"
    }
   ],
   "source": [
    "%%time\n",
    "a = data_generator(5,2**10)\n",
    "#  data [batch num] [method] [qubit location]\n",
    "'''datum = [list of selected pauli operators, 0\n",
    "            theoretical expectation values, 1\n",
    "            experimental expectation values, 2\n",
    "            actual fidelity values, 3  ]'''"
   ]
  },
  {
   "cell_type": "code",
   "execution_count": 4,
   "id": "512374bf",
   "metadata": {},
   "outputs": [
    {
     "name": "stdout",
     "output_type": "stream",
     "text": [
      "actual fidelity  0.9995238438804277\n",
      "calculated  3.21875\n",
      "normalize  0.123046875\n"
     ]
    },
    {
     "ename": "NameError",
     "evalue": "name 'smd' is not defined",
     "output_type": "error",
     "traceback": [
      "\u001b[1;31m---------------------------------------------------------------------------\u001b[0m",
      "\u001b[1;31mNameError\u001b[0m                                 Traceback (most recent call last)",
      "\u001b[1;32m~\\AppData\\Local\\Temp\\ipykernel_13768\\3566248982.py\u001b[0m in \u001b[0;36m<module>\u001b[1;34m\u001b[0m\n\u001b[0;32m     12\u001b[0m \u001b[0mprint\u001b[0m\u001b[1;33m(\u001b[0m\u001b[1;34m'normalize '\u001b[0m\u001b[1;33m,\u001b[0m \u001b[0mP_j\u001b[0m\u001b[1;33m)\u001b[0m\u001b[1;33m\u001b[0m\u001b[1;33m\u001b[0m\u001b[0m\n\u001b[0;32m     13\u001b[0m \u001b[1;31m#since P_j = sum(a_j **2 / 2**n) = 1, we normalize fidelity using it\u001b[0m\u001b[1;33m\u001b[0m\u001b[1;33m\u001b[0m\u001b[0m\n\u001b[1;32m---> 14\u001b[1;33m \u001b[0mfidel_normalized\u001b[0m \u001b[1;33m=\u001b[0m \u001b[0mfidelity\u001b[0m \u001b[1;33m/\u001b[0m \u001b[0msmd\u001b[0m\u001b[1;33m\u001b[0m\u001b[1;33m\u001b[0m\u001b[0m\n\u001b[0m\u001b[0;32m     15\u001b[0m \u001b[0mprint\u001b[0m\u001b[1;33m(\u001b[0m\u001b[1;34m'final fidelity '\u001b[0m\u001b[1;33m,\u001b[0m \u001b[0mfidel_normalized\u001b[0m\u001b[1;33m)\u001b[0m\u001b[1;33m\u001b[0m\u001b[1;33m\u001b[0m\u001b[0m\n",
      "\u001b[1;31mNameError\u001b[0m: name 'smd' is not defined"
     ]
    }
   ],
   "source": [
    "\n",
    "fidelity = 0.0\n",
    "P_j = 0.0\n",
    "for i in range(2**10-1):\n",
    "    fidelity += np.sqrt(a[i][1][4]*a[i][2][4]) / np.sqrt(2**10)\n",
    "    \n",
    "for i in range(2**10-1):\n",
    "    P_j += a[i][1][2] **2 / 2**10\n",
    "    \n",
    "  #since P_j = sum(a_j **2 / 2**n) = 1, we normalize fidelity using it\n",
    "print('actual fidelity ', a[0][3][3])\n",
    "print('calculated ', fidelity)\n",
    "print('normalize ', P_j)\n",
    "#since P_j = sum(a_j **2 / 2**n) = 1, we normalize fidelity using it\n",
    "fidel_normalized = fidelity / smd\n",
    "print('final fidelity ', fidel_normalized)"
   ]
  },
  {
   "cell_type": "code",
   "execution_count": 24,
   "id": "2626d839",
   "metadata": {
    "scrolled": false
   },
   "outputs": [
    {
     "name": "stdout",
     "output_type": "stream",
     "text": [
      "1.0\n",
      "0.8958677685950414 +- 0.001639344262295082\n"
     ]
    }
   ],
   "source": [
    "\n",
    "domain = np.linspace(0.8,1.0,122)\n",
    "labels = []\n",
    "intervals = []\n",
    "for i in range(len(domain)):\n",
    "    labels.append(str(domain[i]))\n",
    "    intervals.append(domain[i])\n",
    "\n",
    "print(a[0][1][1])\n",
    "#print(a[0][1]) # 0th sample, 1st column, 4th element\n",
    "def labeler(data, n_qubits, qubit_location):\n",
    "    _fidelity = 0.0\n",
    "    P_j = 0.0\n",
    "    for i in range(2**10-1):\n",
    "        _fidelity += np.sqrt(a[i][1][qubit_location]*a[i][2][qubit_location]) / np.sqrt(2**10)\n",
    "    \n",
    "    for i in range(2**10-1):\n",
    "        P_j += a[i][1][2] **2 / 2**5\n",
    "    fidel_normalized = _fidelity / P_j\n",
    "    for i in range(len(domain)-1):\n",
    "        if domain[i] < fidel_normalized < domain[i+1]:\n",
    "            return labels[i]\n",
    "\n",
    "\n",
    "print(labeler(a, 5, 0), f'+- {0.2/122}')\n"
   ]
  },
  {
   "cell_type": "code",
   "execution_count": null,
   "id": "42eb5036",
   "metadata": {},
   "outputs": [],
   "source": [
    "%%time\n",
    "data_size = 100\n",
    "data_train = data_generator(5,data_size*0.9)\n",
    "data_validation = data_generator(5,data_size*0.1)"
   ]
  },
  {
   "cell_type": "code",
   "execution_count": null,
   "id": "471823f6",
   "metadata": {},
   "outputs": [],
   "source": [
    "print(len(a))"
   ]
  },
  {
   "cell_type": "code",
   "execution_count": null,
   "id": "ac6d64e1",
   "metadata": {},
   "outputs": [],
   "source": [
    "## quantum neural network\n",
    "\n",
    "\n",
    "n_qubits = 5\n",
    "q_depth = 6\n",
    "dev = qml.device('default.qubit', wires=n_qubits)\n",
    "device = torch.device('cuda:0' if torch.cuda.is_available() else 'cpu')\n",
    "q_delta = 0.01\n",
    "print('is cuda available? ',torch.cuda.is_available())\n",
    "\n",
    "# quantum layers\n",
    "def H_layer(nqubits):\n",
    "    for i in range(nqubits):\n",
    "        qml.Hadamard(wires=i) #superposing states\n",
    "def RY_layer(theta_):\n",
    "    for i, th in enumerate(theta_):\n",
    "        qml.RY(th, wires=i) #rotating states\n",
    "def entangler_layer(nqubits): # layer of cnots cross-firing. cnot[0,1]-cnot[1,2]-cnot[2,3]-...\n",
    "    for i in range(0,nqubits-1, 2):  # evens\n",
    "        qml.CNOT(wires=[i, i+1])\n",
    "    for i in range(1,nqubits-1, 2): # odds\n",
    "        qml.CNOT(wires=[i, i+1])   #entangling states\n",
    "    \n",
    "# variational circuit\n",
    "dev = qml.device('default.qubit', wires=n_qubits)\n",
    "@qml.qnode(dev, interface='torch')\n",
    "\n",
    "def q_net(theta, q_weights_flat):\n",
    "    q_weights = q_weights_flat.reshape(q_depth,n_qubits)\n",
    "    H_layer(n_qubits) #superpose\n",
    "    RY_layer(theta)   #embed features in qnode\n",
    "    for i in range(q_depth):  #sequence of trainable variatinal layers\n",
    "        entangler_layer(n_qubits)\n",
    "        RY_layer(q_weights[i])\n",
    "    exp_vals = [qml.expval(qml.PauliZ(i)) for i in range(n_qubits)] \n",
    "    print('exp.vals = ', tuple(exp_vals))\n",
    "    \n",
    "    return tuple(exp_vals)\n",
    "\n",
    "class dressedQnetwork(nn.Module):\n",
    "    def __init__(self):\n",
    "        super().__init__()\n",
    "        self.preprocess = nn.Linear(512, n_qubits)\n",
    "        self.preprocess = nn.Dropout(p=0.5)\n",
    "        self.thetas = nn.Parameter(q_delta * torch.randn(q_depth * n_qubits))\n",
    "        self.postprocess = nn.Linear(n_qubits, 2)\n",
    "\n",
    "    def forward(self, input_features):\n",
    "        print('features: ', input_features)\n",
    "        print(len(input_features[0]))\n",
    "        output_pre = self.pre_net(input_features)\n",
    "        theta = torch.tanh(output_pre) * np.pi / 2.0  #nonlinear activation on q.layer\n",
    "\n",
    "        output_q = torch.Tensor(0, n_qubits)\n",
    "        output_q = output_q.to(device)\n",
    "        for th in theta:\n",
    "            q_out = q_net(th, self.thetas).float().unsqueeze(0)\n",
    "            output_q = torch.cat((output_q, q_out))\n",
    "\n",
    "        return self.postprocess(output_q)"
   ]
  }
 ],
 "metadata": {
  "kernelspec": {
   "display_name": "'python3'",
   "language": "python",
   "name": "myenv"
  },
  "language_info": {
   "codemirror_mode": {
    "name": "ipython",
    "version": 3
   },
   "file_extension": ".py",
   "mimetype": "text/x-python",
   "name": "python",
   "nbconvert_exporter": "python",
   "pygments_lexer": "ipython3",
   "version": "3.9.15"
  }
 },
 "nbformat": 4,
 "nbformat_minor": 5
}
